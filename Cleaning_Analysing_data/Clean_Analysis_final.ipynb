{
 "cells": [
  {
   "cell_type": "code",
   "execution_count": 1,
   "metadata": {},
   "outputs": [],
   "source": [
    "import pandas as pd"
   ]
  },
  {
   "cell_type": "code",
   "execution_count": 2,
   "metadata": {},
   "outputs": [],
   "source": [
    "import numpy as np"
   ]
  },
  {
   "cell_type": "code",
   "execution_count": 3,
   "metadata": {},
   "outputs": [],
   "source": [
    "import statsmodels.api as sm"
   ]
  },
  {
   "cell_type": "code",
   "execution_count": 4,
   "metadata": {},
   "outputs": [],
   "source": [
    "import csv as csv"
   ]
  },
  {
   "cell_type": "code",
   "execution_count": 5,
   "metadata": {},
   "outputs": [],
   "source": [
    "import scipy.stats.distributions as dist"
   ]
  },
  {
   "cell_type": "code",
   "execution_count": 6,
   "metadata": {},
   "outputs": [],
   "source": [
    "import matplotlib.pyplot as plot"
   ]
  },
  {
   "cell_type": "code",
   "execution_count": 7,
   "metadata": {},
   "outputs": [],
   "source": [
    "import seaborn as sns\n",
    "#for reference https://seaborn.pydata.org/tutorial/distributions.html"
   ]
  },
  {
   "cell_type": "markdown",
   "metadata": {},
   "source": [
    "STEP 1: CLEANING DATA"
   ]
  },
  {
   "cell_type": "markdown",
   "metadata": {},
   "source": [
    "The first step is to clean the Demographics data. "
   ]
  },
  {
   "cell_type": "code",
   "execution_count": 8,
   "metadata": {},
   "outputs": [],
   "source": [
    "Demographics=pd.read_csv(\"../Obtaining_Data/Demographics.csv\")\n"
   ]
  },
  {
   "cell_type": "markdown",
   "metadata": {},
   "source": [
    "Initially, occupations had nine categories; Not Stated, Labourers, Community Workers, Sales Workers, Clerical Workers, Technicians, Managers and Professionals. In order to analyse the impact of the COVID-19 pandemic, these occupations were grouped into two groups; Jobs Requiring a Tertiary Qualification and Jobs not requiring a Tertiary Qualification. Jobs requiring a Tertiary Qualification include Managers, Technicians and Professionals. Jobs not requiring a Tertiary Qualification are all the other occupations listed. It is assumed that if a person did not state their job, it did not require a tertiary qualification "
   ]
  },
  {
   "cell_type": "code",
   "execution_count": 9,
   "metadata": {},
   "outputs": [],
   "source": [
    "#consolidating occupation data into 2 categories; jobs requiring a tertiary qualification and jobs not requiring a tertiary qualification\n",
    "\n",
    "Demographics[\"Job requires Tertiary qualification\"]=Demographics[\"Technicians\"]+Demographics[\"Managers\"]+Demographics[\"Professionals\"]\n",
    "Demographics[\"Job Does not require a Tertiary qualification\"]=Demographics[\"Not Stated\"]+Demographics[\"Machinery\"]+Demographics[\"Labourers\"]+Demographics[\"Community\"]+Demographics[\"Sales\"]+Demographics[\"Clerical\"]\n",
    "Demographics[\"Total Surveyed for Job\"]=Demographics[\"Job requires Tertiary qualification\"]+Demographics[\"Job Does not require a Tertiary qualification\"]\n",
    "\n",
    "\n"
   ]
  },
  {
   "cell_type": "markdown",
   "metadata": {},
   "source": [
    "The percentage of people holding a Tertiary Qualification and not holding a Tertiary Qualification was obtained in order to use in the analysis. Percentages rather than the Frequency was used in the analysis to account for the fact that different suburbs have a different number of people and thus using Frequency may not be a fair comparison when comparing acorss suburbs. "
   ]
  },
  {
   "cell_type": "code",
   "execution_count": 10,
   "metadata": {},
   "outputs": [],
   "source": [
    "#Total Percentage of people holding jobs that require tertiary and do not require tertiary\n",
    "Demographics[\"% holding Job requiring Tertiary\"]=(Demographics[\"Job requires Tertiary qualification\"]/Demographics[\"Total Surveyed for Job\"])*100\n",
    "Demographics[\"% holding job not requiring Tertiary\"]=(Demographics[\"Job Does not require a Tertiary qualification\"]/Demographics[\"Total Surveyed for Job\"])*100\n",
    "\n"
   ]
  },
  {
   "cell_type": "markdown",
   "metadata": {},
   "source": [
    "A similar analysis for the proportion of migrants was done in each suburb. The API call included people born in each country, the total amount of people in each suburb and the number of people born in Australia in each suburb. Thus, to obtain the number of people not born in Australia, the number of people born in Australia each suburb was subtracted from the number of people overall. Once again percentages were obtained in the analysis."
   ]
  },
  {
   "cell_type": "code",
   "execution_count": 11,
   "metadata": {},
   "outputs": [
    {
     "data": {
      "text/html": [
       "<div>\n",
       "<style scoped>\n",
       "    .dataframe tbody tr th:only-of-type {\n",
       "        vertical-align: middle;\n",
       "    }\n",
       "\n",
       "    .dataframe tbody tr th {\n",
       "        vertical-align: top;\n",
       "    }\n",
       "\n",
       "    .dataframe thead th {\n",
       "        text-align: right;\n",
       "    }\n",
       "</style>\n",
       "<table border=\"1\" class=\"dataframe\">\n",
       "  <thead>\n",
       "    <tr style=\"text-align: right;\">\n",
       "      <th></th>\n",
       "      <th>Unnamed: 0</th>\n",
       "      <th>Unnamed: 0.1</th>\n",
       "      <th>Unnamed: 0.1.1</th>\n",
       "      <th>Suburb</th>\n",
       "      <th>ID</th>\n",
       "      <th>0 to 4</th>\n",
       "      <th>5 to 19</th>\n",
       "      <th>20 to 39</th>\n",
       "      <th>40 to 59</th>\n",
       "      <th>60+</th>\n",
       "      <th>...</th>\n",
       "      <th>Born in Australia</th>\n",
       "      <th>Total</th>\n",
       "      <th>Job requires Tertiary qualification</th>\n",
       "      <th>Job Does not require a Tertiary qualification</th>\n",
       "      <th>Total Surveyed for Job</th>\n",
       "      <th>% holding Job requiring Tertiary</th>\n",
       "      <th>% holding job not requiring Tertiary</th>\n",
       "      <th>Born outside of Australia</th>\n",
       "      <th>Percent born in Aus</th>\n",
       "      <th>Percent born outside of Aus</th>\n",
       "    </tr>\n",
       "  </thead>\n",
       "  <tbody>\n",
       "    <tr>\n",
       "      <th>0</th>\n",
       "      <td>0</td>\n",
       "      <td>0</td>\n",
       "      <td>0</td>\n",
       "      <td>Abbotsford</td>\n",
       "      <td>627</td>\n",
       "      <td>319.0</td>\n",
       "      <td>535.0</td>\n",
       "      <td>4740.0</td>\n",
       "      <td>1582.0</td>\n",
       "      <td>997.0</td>\n",
       "      <td>...</td>\n",
       "      <td>4512.0</td>\n",
       "      <td>8184.0</td>\n",
       "      <td>3435.0</td>\n",
       "      <td>1743.0</td>\n",
       "      <td>5178.0</td>\n",
       "      <td>66.338355</td>\n",
       "      <td>33.661645</td>\n",
       "      <td>3672.0</td>\n",
       "      <td>55.131965</td>\n",
       "      <td>44.868035</td>\n",
       "    </tr>\n",
       "    <tr>\n",
       "      <th>1</th>\n",
       "      <td>1</td>\n",
       "      <td>1</td>\n",
       "      <td>1</td>\n",
       "      <td>Aberfeldie</td>\n",
       "      <td>647</td>\n",
       "      <td>179.0</td>\n",
       "      <td>897.0</td>\n",
       "      <td>850.0</td>\n",
       "      <td>1281.0</td>\n",
       "      <td>684.0</td>\n",
       "      <td>...</td>\n",
       "      <td>3021.0</td>\n",
       "      <td>3897.0</td>\n",
       "      <td>1166.0</td>\n",
       "      <td>953.0</td>\n",
       "      <td>2119.0</td>\n",
       "      <td>55.025956</td>\n",
       "      <td>44.974044</td>\n",
       "      <td>876.0</td>\n",
       "      <td>77.521170</td>\n",
       "      <td>22.478830</td>\n",
       "    </tr>\n",
       "    <tr>\n",
       "      <th>2</th>\n",
       "      <td>2</td>\n",
       "      <td>2</td>\n",
       "      <td>2</td>\n",
       "      <td>Airport West</td>\n",
       "      <td>757</td>\n",
       "      <td>463.0</td>\n",
       "      <td>1012.0</td>\n",
       "      <td>2240.0</td>\n",
       "      <td>1920.0</td>\n",
       "      <td>1932.0</td>\n",
       "      <td>...</td>\n",
       "      <td>5064.0</td>\n",
       "      <td>7564.0</td>\n",
       "      <td>1727.0</td>\n",
       "      <td>1883.0</td>\n",
       "      <td>3610.0</td>\n",
       "      <td>47.839335</td>\n",
       "      <td>52.160665</td>\n",
       "      <td>2500.0</td>\n",
       "      <td>66.948704</td>\n",
       "      <td>33.051296</td>\n",
       "    </tr>\n",
       "    <tr>\n",
       "      <th>3</th>\n",
       "      <td>3</td>\n",
       "      <td>3</td>\n",
       "      <td>3</td>\n",
       "      <td>Albanvale</td>\n",
       "      <td>787</td>\n",
       "      <td>371.0</td>\n",
       "      <td>1000.0</td>\n",
       "      <td>1621.0</td>\n",
       "      <td>1373.0</td>\n",
       "      <td>1129.0</td>\n",
       "      <td>...</td>\n",
       "      <td>2287.0</td>\n",
       "      <td>5491.0</td>\n",
       "      <td>641.0</td>\n",
       "      <td>1404.0</td>\n",
       "      <td>2045.0</td>\n",
       "      <td>31.344743</td>\n",
       "      <td>68.655257</td>\n",
       "      <td>3204.0</td>\n",
       "      <td>41.649973</td>\n",
       "      <td>58.350027</td>\n",
       "    </tr>\n",
       "    <tr>\n",
       "      <th>4</th>\n",
       "      <td>4</td>\n",
       "      <td>4</td>\n",
       "      <td>4</td>\n",
       "      <td>Albert Park</td>\n",
       "      <td>797</td>\n",
       "      <td>367.0</td>\n",
       "      <td>938.0</td>\n",
       "      <td>1469.0</td>\n",
       "      <td>1943.0</td>\n",
       "      <td>1493.0</td>\n",
       "      <td>...</td>\n",
       "      <td>4095.0</td>\n",
       "      <td>6215.0</td>\n",
       "      <td>2128.0</td>\n",
       "      <td>941.0</td>\n",
       "      <td>3069.0</td>\n",
       "      <td>69.338547</td>\n",
       "      <td>30.661453</td>\n",
       "      <td>2120.0</td>\n",
       "      <td>65.888978</td>\n",
       "      <td>34.111022</td>\n",
       "    </tr>\n",
       "  </tbody>\n",
       "</table>\n",
       "<p>5 rows × 29 columns</p>\n",
       "</div>"
      ],
      "text/plain": [
       "   Unnamed: 0  Unnamed: 0.1  Unnamed: 0.1.1        Suburb   ID  0 to 4  \\\n",
       "0           0             0               0    Abbotsford  627   319.0   \n",
       "1           1             1               1    Aberfeldie  647   179.0   \n",
       "2           2             2               2  Airport West  757   463.0   \n",
       "3           3             3               3     Albanvale  787   371.0   \n",
       "4           4             4               4   Albert Park  797   367.0   \n",
       "\n",
       "   5 to 19  20 to 39  40 to 59     60+  ...  Born in Australia   Total  \\\n",
       "0    535.0    4740.0    1582.0   997.0  ...             4512.0  8184.0   \n",
       "1    897.0     850.0    1281.0   684.0  ...             3021.0  3897.0   \n",
       "2   1012.0    2240.0    1920.0  1932.0  ...             5064.0  7564.0   \n",
       "3   1000.0    1621.0    1373.0  1129.0  ...             2287.0  5491.0   \n",
       "4    938.0    1469.0    1943.0  1493.0  ...             4095.0  6215.0   \n",
       "\n",
       "   Job requires Tertiary qualification  \\\n",
       "0                               3435.0   \n",
       "1                               1166.0   \n",
       "2                               1727.0   \n",
       "3                                641.0   \n",
       "4                               2128.0   \n",
       "\n",
       "   Job Does not require a Tertiary qualification  Total Surveyed for Job  \\\n",
       "0                                         1743.0                  5178.0   \n",
       "1                                          953.0                  2119.0   \n",
       "2                                         1883.0                  3610.0   \n",
       "3                                         1404.0                  2045.0   \n",
       "4                                          941.0                  3069.0   \n",
       "\n",
       "   % holding Job requiring Tertiary  % holding job not requiring Tertiary  \\\n",
       "0                         66.338355                             33.661645   \n",
       "1                         55.025956                             44.974044   \n",
       "2                         47.839335                             52.160665   \n",
       "3                         31.344743                             68.655257   \n",
       "4                         69.338547                             30.661453   \n",
       "\n",
       "   Born outside of Australia  Percent born in Aus  Percent born outside of Aus  \n",
       "0                     3672.0            55.131965                    44.868035  \n",
       "1                      876.0            77.521170                    22.478830  \n",
       "2                     2500.0            66.948704                    33.051296  \n",
       "3                     3204.0            41.649973                    58.350027  \n",
       "4                     2120.0            65.888978                    34.111022  \n",
       "\n",
       "[5 rows x 29 columns]"
      ]
     },
     "execution_count": 11,
     "metadata": {},
     "output_type": "execute_result"
    }
   ],
   "source": [
    "#Percentage of migrants in each suburb who are born within and outside of Australia \n",
    "Demographics[\"Born outside of Australia\"]=Demographics[\"Total\"]-Demographics[\"Born in Australia\"]\n",
    "Demographics[\"Percent born in Aus\"]=(Demographics[\"Born in Australia\"]/Demographics[\"Total\"])*100\n",
    "Demographics[\"Percent born outside of Aus\"]=(Demographics[\"Born outside of Australia\"]/Demographics[\"Total\"])*100\n",
    "Demographics.head()"
   ]
  },
  {
   "cell_type": "markdown",
   "metadata": {},
   "source": [
    "Lastly to clean the demographics dataset, redundant columns were removed. Thus, all the individual occupations were removed. "
   ]
  },
  {
   "cell_type": "code",
   "execution_count": 12,
   "metadata": {},
   "outputs": [],
   "source": [
    "#Dataset only including the clean and formatted data\n",
    "Demographics=Demographics[[\"Suburb\", \"ID\", \"0 to 4\", \"5 to 19\", \"20 to 39\", \"40 to 59\", \"60+\", \"Job requires Tertiary qualification\", \"Job Does not require a Tertiary qualification\", \"% holding Job requiring Tertiary\", \"% holding job not requiring Tertiary\", \"Born in Australia\", \"Born outside of Australia\", \"Percent born in Aus\", \"Percent born outside of Aus\"]]\n",
    "\n",
    "Demographics.to_csv(\"Demographics_edited.csv\")"
   ]
  },
  {
   "cell_type": "markdown",
   "metadata": {},
   "source": [
    "Next, both the Median Price dataset and the edited Demographics datset were loaded into the Jupyter notebook in order to continue the analysis"
   ]
  },
  {
   "cell_type": "code",
   "execution_count": 13,
   "metadata": {},
   "outputs": [],
   "source": [
    "house_price_data_to_load=\"../Obtaining_Data/Jan_Apr_2020_data.csv\"\n",
    "demographic_data_to_load=\"Demographics_edited.csv\""
   ]
  },
  {
   "cell_type": "code",
   "execution_count": 14,
   "metadata": {},
   "outputs": [],
   "source": [
    "house_data=pd.read_csv(house_price_data_to_load)\n",
    "demographic_data=pd.read_csv(demographic_data_to_load)"
   ]
  },
  {
   "cell_type": "code",
   "execution_count": 15,
   "metadata": {},
   "outputs": [
    {
     "data": {
      "text/html": [
       "<div>\n",
       "<style scoped>\n",
       "    .dataframe tbody tr th:only-of-type {\n",
       "        vertical-align: middle;\n",
       "    }\n",
       "\n",
       "    .dataframe tbody tr th {\n",
       "        vertical-align: top;\n",
       "    }\n",
       "\n",
       "    .dataframe thead th {\n",
       "        text-align: right;\n",
       "    }\n",
       "</style>\n",
       "<table border=\"1\" class=\"dataframe\">\n",
       "  <thead>\n",
       "    <tr style=\"text-align: right;\">\n",
       "      <th></th>\n",
       "      <th>Unnamed: 0</th>\n",
       "      <th>Unnamed: 0.1</th>\n",
       "      <th>Suburb</th>\n",
       "      <th>ID</th>\n",
       "      <th>Jan 2020 Median</th>\n",
       "      <th>April 2020 Median</th>\n",
       "      <th>Jan 2020 Number Sold</th>\n",
       "      <th>April 2020 Number Sold</th>\n",
       "    </tr>\n",
       "  </thead>\n",
       "  <tbody>\n",
       "    <tr>\n",
       "      <th>0</th>\n",
       "      <td>0</td>\n",
       "      <td>0</td>\n",
       "      <td>Abbotsford</td>\n",
       "      <td>627</td>\n",
       "      <td>1110000.0</td>\n",
       "      <td>1115000.0</td>\n",
       "      <td>18.0</td>\n",
       "      <td>16.0</td>\n",
       "    </tr>\n",
       "    <tr>\n",
       "      <th>1</th>\n",
       "      <td>1</td>\n",
       "      <td>1</td>\n",
       "      <td>Aberfeldie</td>\n",
       "      <td>647</td>\n",
       "      <td>NaN</td>\n",
       "      <td>1520000.0</td>\n",
       "      <td>8.0</td>\n",
       "      <td>11.0</td>\n",
       "    </tr>\n",
       "    <tr>\n",
       "      <th>2</th>\n",
       "      <td>2</td>\n",
       "      <td>2</td>\n",
       "      <td>Airport West</td>\n",
       "      <td>757</td>\n",
       "      <td>840000.0</td>\n",
       "      <td>785000.0</td>\n",
       "      <td>32.0</td>\n",
       "      <td>25.0</td>\n",
       "    </tr>\n",
       "    <tr>\n",
       "      <th>3</th>\n",
       "      <td>3</td>\n",
       "      <td>3</td>\n",
       "      <td>Albanvale</td>\n",
       "      <td>787</td>\n",
       "      <td>530000.0</td>\n",
       "      <td>540000.0</td>\n",
       "      <td>14.0</td>\n",
       "      <td>11.0</td>\n",
       "    </tr>\n",
       "    <tr>\n",
       "      <th>4</th>\n",
       "      <td>4</td>\n",
       "      <td>4</td>\n",
       "      <td>Albert Park</td>\n",
       "      <td>797</td>\n",
       "      <td>2423000.0</td>\n",
       "      <td>1679000.0</td>\n",
       "      <td>26.0</td>\n",
       "      <td>30.0</td>\n",
       "    </tr>\n",
       "  </tbody>\n",
       "</table>\n",
       "</div>"
      ],
      "text/plain": [
       "   Unnamed: 0  Unnamed: 0.1        Suburb   ID  Jan 2020 Median  \\\n",
       "0           0             0    Abbotsford  627        1110000.0   \n",
       "1           1             1    Aberfeldie  647              NaN   \n",
       "2           2             2  Airport West  757         840000.0   \n",
       "3           3             3     Albanvale  787         530000.0   \n",
       "4           4             4   Albert Park  797        2423000.0   \n",
       "\n",
       "   April 2020 Median  Jan 2020 Number Sold  April 2020 Number Sold  \n",
       "0          1115000.0                  18.0                    16.0  \n",
       "1          1520000.0                   8.0                    11.0  \n",
       "2           785000.0                  32.0                    25.0  \n",
       "3           540000.0                  14.0                    11.0  \n",
       "4          1679000.0                  26.0                    30.0  "
      ]
     },
     "execution_count": 15,
     "metadata": {},
     "output_type": "execute_result"
    }
   ],
   "source": [
    "house_data.head()"
   ]
  },
  {
   "cell_type": "code",
   "execution_count": 16,
   "metadata": {},
   "outputs": [
    {
     "data": {
      "text/plain": [
       "pandas.core.frame.DataFrame"
      ]
     },
     "execution_count": 16,
     "metadata": {},
     "output_type": "execute_result"
    }
   ],
   "source": [
    "type(house_data)"
   ]
  },
  {
   "cell_type": "markdown",
   "metadata": {},
   "source": [
    "The dataset comprising of the Median Price in suburbs and the dataset comprising of the Demographics were then both merged together using the Suburb ID column "
   ]
  },
  {
   "cell_type": "code",
   "execution_count": 17,
   "metadata": {},
   "outputs": [
    {
     "data": {
      "text/html": [
       "<div>\n",
       "<style scoped>\n",
       "    .dataframe tbody tr th:only-of-type {\n",
       "        vertical-align: middle;\n",
       "    }\n",
       "\n",
       "    .dataframe tbody tr th {\n",
       "        vertical-align: top;\n",
       "    }\n",
       "\n",
       "    .dataframe thead th {\n",
       "        text-align: right;\n",
       "    }\n",
       "</style>\n",
       "<table border=\"1\" class=\"dataframe\">\n",
       "  <thead>\n",
       "    <tr style=\"text-align: right;\">\n",
       "      <th></th>\n",
       "      <th>Unnamed: 0_x</th>\n",
       "      <th>Unnamed: 0.1</th>\n",
       "      <th>Suburb_x</th>\n",
       "      <th>ID</th>\n",
       "      <th>Jan 2020 Median</th>\n",
       "      <th>April 2020 Median</th>\n",
       "      <th>Jan 2020 Number Sold</th>\n",
       "      <th>April 2020 Number Sold</th>\n",
       "      <th>Unnamed: 0_y</th>\n",
       "      <th>Suburb_y</th>\n",
       "      <th>...</th>\n",
       "      <th>40 to 59</th>\n",
       "      <th>60+</th>\n",
       "      <th>Job requires Tertiary qualification</th>\n",
       "      <th>Job Does not require a Tertiary qualification</th>\n",
       "      <th>% holding Job requiring Tertiary</th>\n",
       "      <th>% holding job not requiring Tertiary</th>\n",
       "      <th>Born in Australia</th>\n",
       "      <th>Born outside of Australia</th>\n",
       "      <th>Percent born in Aus</th>\n",
       "      <th>Percent born outside of Aus</th>\n",
       "    </tr>\n",
       "  </thead>\n",
       "  <tbody>\n",
       "    <tr>\n",
       "      <th>0</th>\n",
       "      <td>0</td>\n",
       "      <td>0</td>\n",
       "      <td>Abbotsford</td>\n",
       "      <td>627</td>\n",
       "      <td>1110000.0</td>\n",
       "      <td>1115000.0</td>\n",
       "      <td>18.0</td>\n",
       "      <td>16.0</td>\n",
       "      <td>0</td>\n",
       "      <td>Abbotsford</td>\n",
       "      <td>...</td>\n",
       "      <td>1582.0</td>\n",
       "      <td>997.0</td>\n",
       "      <td>3435.0</td>\n",
       "      <td>1743.0</td>\n",
       "      <td>66.338355</td>\n",
       "      <td>33.661645</td>\n",
       "      <td>4512.0</td>\n",
       "      <td>3672.0</td>\n",
       "      <td>55.131965</td>\n",
       "      <td>44.868035</td>\n",
       "    </tr>\n",
       "    <tr>\n",
       "      <th>1</th>\n",
       "      <td>1</td>\n",
       "      <td>1</td>\n",
       "      <td>Aberfeldie</td>\n",
       "      <td>647</td>\n",
       "      <td>NaN</td>\n",
       "      <td>1520000.0</td>\n",
       "      <td>8.0</td>\n",
       "      <td>11.0</td>\n",
       "      <td>1</td>\n",
       "      <td>Aberfeldie</td>\n",
       "      <td>...</td>\n",
       "      <td>1281.0</td>\n",
       "      <td>684.0</td>\n",
       "      <td>1166.0</td>\n",
       "      <td>953.0</td>\n",
       "      <td>55.025956</td>\n",
       "      <td>44.974044</td>\n",
       "      <td>3021.0</td>\n",
       "      <td>876.0</td>\n",
       "      <td>77.521170</td>\n",
       "      <td>22.478830</td>\n",
       "    </tr>\n",
       "    <tr>\n",
       "      <th>2</th>\n",
       "      <td>2</td>\n",
       "      <td>2</td>\n",
       "      <td>Airport West</td>\n",
       "      <td>757</td>\n",
       "      <td>840000.0</td>\n",
       "      <td>785000.0</td>\n",
       "      <td>32.0</td>\n",
       "      <td>25.0</td>\n",
       "      <td>2</td>\n",
       "      <td>Airport West</td>\n",
       "      <td>...</td>\n",
       "      <td>1920.0</td>\n",
       "      <td>1932.0</td>\n",
       "      <td>1727.0</td>\n",
       "      <td>1883.0</td>\n",
       "      <td>47.839335</td>\n",
       "      <td>52.160665</td>\n",
       "      <td>5064.0</td>\n",
       "      <td>2500.0</td>\n",
       "      <td>66.948704</td>\n",
       "      <td>33.051296</td>\n",
       "    </tr>\n",
       "    <tr>\n",
       "      <th>3</th>\n",
       "      <td>3</td>\n",
       "      <td>3</td>\n",
       "      <td>Albanvale</td>\n",
       "      <td>787</td>\n",
       "      <td>530000.0</td>\n",
       "      <td>540000.0</td>\n",
       "      <td>14.0</td>\n",
       "      <td>11.0</td>\n",
       "      <td>3</td>\n",
       "      <td>Albanvale</td>\n",
       "      <td>...</td>\n",
       "      <td>1373.0</td>\n",
       "      <td>1129.0</td>\n",
       "      <td>641.0</td>\n",
       "      <td>1404.0</td>\n",
       "      <td>31.344743</td>\n",
       "      <td>68.655257</td>\n",
       "      <td>2287.0</td>\n",
       "      <td>3204.0</td>\n",
       "      <td>41.649973</td>\n",
       "      <td>58.350027</td>\n",
       "    </tr>\n",
       "    <tr>\n",
       "      <th>4</th>\n",
       "      <td>4</td>\n",
       "      <td>4</td>\n",
       "      <td>Albert Park</td>\n",
       "      <td>797</td>\n",
       "      <td>2423000.0</td>\n",
       "      <td>1679000.0</td>\n",
       "      <td>26.0</td>\n",
       "      <td>30.0</td>\n",
       "      <td>4</td>\n",
       "      <td>Albert Park</td>\n",
       "      <td>...</td>\n",
       "      <td>1943.0</td>\n",
       "      <td>1493.0</td>\n",
       "      <td>2128.0</td>\n",
       "      <td>941.0</td>\n",
       "      <td>69.338547</td>\n",
       "      <td>30.661453</td>\n",
       "      <td>4095.0</td>\n",
       "      <td>2120.0</td>\n",
       "      <td>65.888978</td>\n",
       "      <td>34.111022</td>\n",
       "    </tr>\n",
       "  </tbody>\n",
       "</table>\n",
       "<p>5 rows × 23 columns</p>\n",
       "</div>"
      ],
      "text/plain": [
       "   Unnamed: 0_x  Unnamed: 0.1      Suburb_x   ID  Jan 2020 Median  \\\n",
       "0             0             0    Abbotsford  627        1110000.0   \n",
       "1             1             1    Aberfeldie  647              NaN   \n",
       "2             2             2  Airport West  757         840000.0   \n",
       "3             3             3     Albanvale  787         530000.0   \n",
       "4             4             4   Albert Park  797        2423000.0   \n",
       "\n",
       "   April 2020 Median  Jan 2020 Number Sold  April 2020 Number Sold  \\\n",
       "0          1115000.0                  18.0                    16.0   \n",
       "1          1520000.0                   8.0                    11.0   \n",
       "2           785000.0                  32.0                    25.0   \n",
       "3           540000.0                  14.0                    11.0   \n",
       "4          1679000.0                  26.0                    30.0   \n",
       "\n",
       "   Unnamed: 0_y      Suburb_y  ...  40 to 59     60+  \\\n",
       "0             0    Abbotsford  ...    1582.0   997.0   \n",
       "1             1    Aberfeldie  ...    1281.0   684.0   \n",
       "2             2  Airport West  ...    1920.0  1932.0   \n",
       "3             3     Albanvale  ...    1373.0  1129.0   \n",
       "4             4   Albert Park  ...    1943.0  1493.0   \n",
       "\n",
       "   Job requires Tertiary qualification  \\\n",
       "0                               3435.0   \n",
       "1                               1166.0   \n",
       "2                               1727.0   \n",
       "3                                641.0   \n",
       "4                               2128.0   \n",
       "\n",
       "   Job Does not require a Tertiary qualification  \\\n",
       "0                                         1743.0   \n",
       "1                                          953.0   \n",
       "2                                         1883.0   \n",
       "3                                         1404.0   \n",
       "4                                          941.0   \n",
       "\n",
       "   % holding Job requiring Tertiary  % holding job not requiring Tertiary  \\\n",
       "0                         66.338355                             33.661645   \n",
       "1                         55.025956                             44.974044   \n",
       "2                         47.839335                             52.160665   \n",
       "3                         31.344743                             68.655257   \n",
       "4                         69.338547                             30.661453   \n",
       "\n",
       "   Born in Australia  Born outside of Australia  Percent born in Aus  \\\n",
       "0             4512.0                     3672.0            55.131965   \n",
       "1             3021.0                      876.0            77.521170   \n",
       "2             5064.0                     2500.0            66.948704   \n",
       "3             2287.0                     3204.0            41.649973   \n",
       "4             4095.0                     2120.0            65.888978   \n",
       "\n",
       "   Percent born outside of Aus  \n",
       "0                    44.868035  \n",
       "1                    22.478830  \n",
       "2                    33.051296  \n",
       "3                    58.350027  \n",
       "4                    34.111022  \n",
       "\n",
       "[5 rows x 23 columns]"
      ]
     },
     "execution_count": 17,
     "metadata": {},
     "output_type": "execute_result"
    }
   ],
   "source": [
    "house_data_complete = pd.merge(house_data, demographic_data, how=\"left\", on=[\"ID\", \"ID\"])\n",
    "house_data_complete.head()"
   ]
  },
  {
   "cell_type": "markdown",
   "metadata": {},
   "source": [
    "After the merge, the combined dataset was then further cleaned by dropping any redundant rows such as Suburb_y and dropping any rows that did not have values for the median price in January."
   ]
  },
  {
   "cell_type": "code",
   "execution_count": 18,
   "metadata": {},
   "outputs": [],
   "source": [
    "#Drop redundant or duplicate columns after merge\n",
    "house_data_complete.drop(['Unnamed: 0_x', 'Unnamed: 0.1', 'Unnamed: 0_y', 'Suburb_y'], axis=1, inplace=True)"
   ]
  },
  {
   "cell_type": "code",
   "execution_count": 19,
   "metadata": {},
   "outputs": [],
   "source": [
    "#Drop rows without values for key variables, eg. no observed median price or sales, or missing demographic data\n",
    "house_data_complete.dropna(subset = [\"Jan 2020 Median\", \"April 2020 Median\", \"% holding job not requiring Tertiary\", \"Percent born in Aus\"], inplace=True)"
   ]
  },
  {
   "cell_type": "markdown",
   "metadata": {},
   "source": [
    "Two columns were then added in order to get the total population. This then allowed for further analysis and cleaning by determining the percentage of people in each age group for each suburb, which is comppleted in the cless below. "
   ]
  },
  {
   "cell_type": "code",
   "execution_count": 20,
   "metadata": {},
   "outputs": [],
   "source": [
    "#Add two columns to get total suburb population"
   ]
  },
  {
   "cell_type": "code",
   "execution_count": 21,
   "metadata": {},
   "outputs": [],
   "source": [
    "house_data_complete[\"Total Population\"]=(house_data_complete[\"Born in Australia\"]+house_data_complete[\"Born outside of Australia\"])"
   ]
  },
  {
   "cell_type": "code",
   "execution_count": 22,
   "metadata": {
    "scrolled": true
   },
   "outputs": [
    {
     "data": {
      "text/html": [
       "<div>\n",
       "<style scoped>\n",
       "    .dataframe tbody tr th:only-of-type {\n",
       "        vertical-align: middle;\n",
       "    }\n",
       "\n",
       "    .dataframe tbody tr th {\n",
       "        vertical-align: top;\n",
       "    }\n",
       "\n",
       "    .dataframe thead th {\n",
       "        text-align: right;\n",
       "    }\n",
       "</style>\n",
       "<table border=\"1\" class=\"dataframe\">\n",
       "  <thead>\n",
       "    <tr style=\"text-align: right;\">\n",
       "      <th></th>\n",
       "      <th>Suburb_x</th>\n",
       "      <th>ID</th>\n",
       "      <th>Jan 2020 Median</th>\n",
       "      <th>April 2020 Median</th>\n",
       "      <th>Jan 2020 Number Sold</th>\n",
       "      <th>April 2020 Number Sold</th>\n",
       "      <th>0 to 4</th>\n",
       "      <th>5 to 19</th>\n",
       "      <th>20 to 39</th>\n",
       "      <th>40 to 59</th>\n",
       "      <th>60+</th>\n",
       "      <th>Job requires Tertiary qualification</th>\n",
       "      <th>Job Does not require a Tertiary qualification</th>\n",
       "      <th>% holding Job requiring Tertiary</th>\n",
       "      <th>% holding job not requiring Tertiary</th>\n",
       "      <th>Born in Australia</th>\n",
       "      <th>Born outside of Australia</th>\n",
       "      <th>Percent born in Aus</th>\n",
       "      <th>Percent born outside of Aus</th>\n",
       "      <th>Total Population</th>\n",
       "    </tr>\n",
       "  </thead>\n",
       "  <tbody>\n",
       "    <tr>\n",
       "      <th>0</th>\n",
       "      <td>Abbotsford</td>\n",
       "      <td>627</td>\n",
       "      <td>1110000.0</td>\n",
       "      <td>1115000.0</td>\n",
       "      <td>18.0</td>\n",
       "      <td>16.0</td>\n",
       "      <td>319.0</td>\n",
       "      <td>535.0</td>\n",
       "      <td>4740.0</td>\n",
       "      <td>1582.0</td>\n",
       "      <td>997.0</td>\n",
       "      <td>3435.0</td>\n",
       "      <td>1743.0</td>\n",
       "      <td>66.338355</td>\n",
       "      <td>33.661645</td>\n",
       "      <td>4512.0</td>\n",
       "      <td>3672.0</td>\n",
       "      <td>55.131965</td>\n",
       "      <td>44.868035</td>\n",
       "      <td>8184.0</td>\n",
       "    </tr>\n",
       "    <tr>\n",
       "      <th>2</th>\n",
       "      <td>Airport West</td>\n",
       "      <td>757</td>\n",
       "      <td>840000.0</td>\n",
       "      <td>785000.0</td>\n",
       "      <td>32.0</td>\n",
       "      <td>25.0</td>\n",
       "      <td>463.0</td>\n",
       "      <td>1012.0</td>\n",
       "      <td>2240.0</td>\n",
       "      <td>1920.0</td>\n",
       "      <td>1932.0</td>\n",
       "      <td>1727.0</td>\n",
       "      <td>1883.0</td>\n",
       "      <td>47.839335</td>\n",
       "      <td>52.160665</td>\n",
       "      <td>5064.0</td>\n",
       "      <td>2500.0</td>\n",
       "      <td>66.948704</td>\n",
       "      <td>33.051296</td>\n",
       "      <td>7564.0</td>\n",
       "    </tr>\n",
       "    <tr>\n",
       "      <th>3</th>\n",
       "      <td>Albanvale</td>\n",
       "      <td>787</td>\n",
       "      <td>530000.0</td>\n",
       "      <td>540000.0</td>\n",
       "      <td>14.0</td>\n",
       "      <td>11.0</td>\n",
       "      <td>371.0</td>\n",
       "      <td>1000.0</td>\n",
       "      <td>1621.0</td>\n",
       "      <td>1373.0</td>\n",
       "      <td>1129.0</td>\n",
       "      <td>641.0</td>\n",
       "      <td>1404.0</td>\n",
       "      <td>31.344743</td>\n",
       "      <td>68.655257</td>\n",
       "      <td>2287.0</td>\n",
       "      <td>3204.0</td>\n",
       "      <td>41.649973</td>\n",
       "      <td>58.350027</td>\n",
       "      <td>5491.0</td>\n",
       "    </tr>\n",
       "    <tr>\n",
       "      <th>4</th>\n",
       "      <td>Albert Park</td>\n",
       "      <td>797</td>\n",
       "      <td>2423000.0</td>\n",
       "      <td>1679000.0</td>\n",
       "      <td>26.0</td>\n",
       "      <td>30.0</td>\n",
       "      <td>367.0</td>\n",
       "      <td>938.0</td>\n",
       "      <td>1469.0</td>\n",
       "      <td>1943.0</td>\n",
       "      <td>1493.0</td>\n",
       "      <td>2128.0</td>\n",
       "      <td>941.0</td>\n",
       "      <td>69.338547</td>\n",
       "      <td>30.661453</td>\n",
       "      <td>4095.0</td>\n",
       "      <td>2120.0</td>\n",
       "      <td>65.888978</td>\n",
       "      <td>34.111022</td>\n",
       "      <td>6215.0</td>\n",
       "    </tr>\n",
       "    <tr>\n",
       "      <th>6</th>\n",
       "      <td>Alphington</td>\n",
       "      <td>1047</td>\n",
       "      <td>1718000.0</td>\n",
       "      <td>1471000.0</td>\n",
       "      <td>12.0</td>\n",
       "      <td>16.0</td>\n",
       "      <td>222.0</td>\n",
       "      <td>955.0</td>\n",
       "      <td>1443.0</td>\n",
       "      <td>1585.0</td>\n",
       "      <td>881.0</td>\n",
       "      <td>1854.0</td>\n",
       "      <td>968.0</td>\n",
       "      <td>65.698086</td>\n",
       "      <td>34.301914</td>\n",
       "      <td>3765.0</td>\n",
       "      <td>1315.0</td>\n",
       "      <td>74.114173</td>\n",
       "      <td>25.885827</td>\n",
       "      <td>5080.0</td>\n",
       "    </tr>\n",
       "  </tbody>\n",
       "</table>\n",
       "</div>"
      ],
      "text/plain": [
       "       Suburb_x    ID  Jan 2020 Median  April 2020 Median  \\\n",
       "0    Abbotsford   627        1110000.0          1115000.0   \n",
       "2  Airport West   757         840000.0           785000.0   \n",
       "3     Albanvale   787         530000.0           540000.0   \n",
       "4   Albert Park   797        2423000.0          1679000.0   \n",
       "6    Alphington  1047        1718000.0          1471000.0   \n",
       "\n",
       "   Jan 2020 Number Sold  April 2020 Number Sold  0 to 4  5 to 19  20 to 39  \\\n",
       "0                  18.0                    16.0   319.0    535.0    4740.0   \n",
       "2                  32.0                    25.0   463.0   1012.0    2240.0   \n",
       "3                  14.0                    11.0   371.0   1000.0    1621.0   \n",
       "4                  26.0                    30.0   367.0    938.0    1469.0   \n",
       "6                  12.0                    16.0   222.0    955.0    1443.0   \n",
       "\n",
       "   40 to 59     60+  Job requires Tertiary qualification  \\\n",
       "0    1582.0   997.0                               3435.0   \n",
       "2    1920.0  1932.0                               1727.0   \n",
       "3    1373.0  1129.0                                641.0   \n",
       "4    1943.0  1493.0                               2128.0   \n",
       "6    1585.0   881.0                               1854.0   \n",
       "\n",
       "   Job Does not require a Tertiary qualification  \\\n",
       "0                                         1743.0   \n",
       "2                                         1883.0   \n",
       "3                                         1404.0   \n",
       "4                                          941.0   \n",
       "6                                          968.0   \n",
       "\n",
       "   % holding Job requiring Tertiary  % holding job not requiring Tertiary  \\\n",
       "0                         66.338355                             33.661645   \n",
       "2                         47.839335                             52.160665   \n",
       "3                         31.344743                             68.655257   \n",
       "4                         69.338547                             30.661453   \n",
       "6                         65.698086                             34.301914   \n",
       "\n",
       "   Born in Australia  Born outside of Australia  Percent born in Aus  \\\n",
       "0             4512.0                     3672.0            55.131965   \n",
       "2             5064.0                     2500.0            66.948704   \n",
       "3             2287.0                     3204.0            41.649973   \n",
       "4             4095.0                     2120.0            65.888978   \n",
       "6             3765.0                     1315.0            74.114173   \n",
       "\n",
       "   Percent born outside of Aus  Total Population  \n",
       "0                    44.868035            8184.0  \n",
       "2                    33.051296            7564.0  \n",
       "3                    58.350027            5491.0  \n",
       "4                    34.111022            6215.0  \n",
       "6                    25.885827            5080.0  "
      ]
     },
     "execution_count": 22,
     "metadata": {},
     "output_type": "execute_result"
    }
   ],
   "source": [
    "house_data_complete.head()"
   ]
  },
  {
   "cell_type": "code",
   "execution_count": 23,
   "metadata": {},
   "outputs": [],
   "source": [
    "#Identify change in median house prices between February 2020 and April 2020, by suburb"
   ]
  },
  {
   "cell_type": "code",
   "execution_count": 24,
   "metadata": {},
   "outputs": [],
   "source": [
    "house_data_complete[\"House_price_delta\"]=(house_data_complete[\"April 2020 Median\"]-house_data_complete[\"Jan 2020 Median\"])/house_data_complete[\"Jan 2020 Median\"]"
   ]
  },
  {
   "cell_type": "code",
   "execution_count": 25,
   "metadata": {},
   "outputs": [],
   "source": [
    "house_data_complete[\"% 20 to 39\"]=(house_data_complete[\"20 to 39\"])/house_data_complete[\"Total Population\"]"
   ]
  },
  {
   "cell_type": "code",
   "execution_count": 26,
   "metadata": {},
   "outputs": [],
   "source": [
    "house_data_complete[\"% 60+\"]=(house_data_complete[\"60+\"])/house_data_complete[\"Total Population\"]"
   ]
  },
  {
   "cell_type": "code",
   "execution_count": 27,
   "metadata": {},
   "outputs": [],
   "source": [
    "house_data_complete[\"% 0 to 4\"]=(house_data_complete[\"0 to 4\"])/house_data_complete[\"Total Population\"]"
   ]
  },
  {
   "cell_type": "code",
   "execution_count": 28,
   "metadata": {},
   "outputs": [
    {
     "data": {
      "text/html": [
       "<div>\n",
       "<style scoped>\n",
       "    .dataframe tbody tr th:only-of-type {\n",
       "        vertical-align: middle;\n",
       "    }\n",
       "\n",
       "    .dataframe tbody tr th {\n",
       "        vertical-align: top;\n",
       "    }\n",
       "\n",
       "    .dataframe thead th {\n",
       "        text-align: right;\n",
       "    }\n",
       "</style>\n",
       "<table border=\"1\" class=\"dataframe\">\n",
       "  <thead>\n",
       "    <tr style=\"text-align: right;\">\n",
       "      <th></th>\n",
       "      <th>Suburb_x</th>\n",
       "      <th>ID</th>\n",
       "      <th>Jan 2020 Median</th>\n",
       "      <th>April 2020 Median</th>\n",
       "      <th>Jan 2020 Number Sold</th>\n",
       "      <th>April 2020 Number Sold</th>\n",
       "      <th>0 to 4</th>\n",
       "      <th>5 to 19</th>\n",
       "      <th>20 to 39</th>\n",
       "      <th>40 to 59</th>\n",
       "      <th>...</th>\n",
       "      <th>% holding job not requiring Tertiary</th>\n",
       "      <th>Born in Australia</th>\n",
       "      <th>Born outside of Australia</th>\n",
       "      <th>Percent born in Aus</th>\n",
       "      <th>Percent born outside of Aus</th>\n",
       "      <th>Total Population</th>\n",
       "      <th>House_price_delta</th>\n",
       "      <th>% 20 to 39</th>\n",
       "      <th>% 60+</th>\n",
       "      <th>% 0 to 4</th>\n",
       "    </tr>\n",
       "  </thead>\n",
       "  <tbody>\n",
       "    <tr>\n",
       "      <th>0</th>\n",
       "      <td>Abbotsford</td>\n",
       "      <td>627</td>\n",
       "      <td>1110000.0</td>\n",
       "      <td>1115000.0</td>\n",
       "      <td>18.0</td>\n",
       "      <td>16.0</td>\n",
       "      <td>319.0</td>\n",
       "      <td>535.0</td>\n",
       "      <td>4740.0</td>\n",
       "      <td>1582.0</td>\n",
       "      <td>...</td>\n",
       "      <td>33.661645</td>\n",
       "      <td>4512.0</td>\n",
       "      <td>3672.0</td>\n",
       "      <td>55.131965</td>\n",
       "      <td>44.868035</td>\n",
       "      <td>8184.0</td>\n",
       "      <td>0.004505</td>\n",
       "      <td>0.579179</td>\n",
       "      <td>0.121823</td>\n",
       "      <td>0.038978</td>\n",
       "    </tr>\n",
       "    <tr>\n",
       "      <th>2</th>\n",
       "      <td>Airport West</td>\n",
       "      <td>757</td>\n",
       "      <td>840000.0</td>\n",
       "      <td>785000.0</td>\n",
       "      <td>32.0</td>\n",
       "      <td>25.0</td>\n",
       "      <td>463.0</td>\n",
       "      <td>1012.0</td>\n",
       "      <td>2240.0</td>\n",
       "      <td>1920.0</td>\n",
       "      <td>...</td>\n",
       "      <td>52.160665</td>\n",
       "      <td>5064.0</td>\n",
       "      <td>2500.0</td>\n",
       "      <td>66.948704</td>\n",
       "      <td>33.051296</td>\n",
       "      <td>7564.0</td>\n",
       "      <td>-0.065476</td>\n",
       "      <td>0.296140</td>\n",
       "      <td>0.255420</td>\n",
       "      <td>0.061211</td>\n",
       "    </tr>\n",
       "    <tr>\n",
       "      <th>3</th>\n",
       "      <td>Albanvale</td>\n",
       "      <td>787</td>\n",
       "      <td>530000.0</td>\n",
       "      <td>540000.0</td>\n",
       "      <td>14.0</td>\n",
       "      <td>11.0</td>\n",
       "      <td>371.0</td>\n",
       "      <td>1000.0</td>\n",
       "      <td>1621.0</td>\n",
       "      <td>1373.0</td>\n",
       "      <td>...</td>\n",
       "      <td>68.655257</td>\n",
       "      <td>2287.0</td>\n",
       "      <td>3204.0</td>\n",
       "      <td>41.649973</td>\n",
       "      <td>58.350027</td>\n",
       "      <td>5491.0</td>\n",
       "      <td>0.018868</td>\n",
       "      <td>0.295210</td>\n",
       "      <td>0.205609</td>\n",
       "      <td>0.067565</td>\n",
       "    </tr>\n",
       "    <tr>\n",
       "      <th>4</th>\n",
       "      <td>Albert Park</td>\n",
       "      <td>797</td>\n",
       "      <td>2423000.0</td>\n",
       "      <td>1679000.0</td>\n",
       "      <td>26.0</td>\n",
       "      <td>30.0</td>\n",
       "      <td>367.0</td>\n",
       "      <td>938.0</td>\n",
       "      <td>1469.0</td>\n",
       "      <td>1943.0</td>\n",
       "      <td>...</td>\n",
       "      <td>30.661453</td>\n",
       "      <td>4095.0</td>\n",
       "      <td>2120.0</td>\n",
       "      <td>65.888978</td>\n",
       "      <td>34.111022</td>\n",
       "      <td>6215.0</td>\n",
       "      <td>-0.307057</td>\n",
       "      <td>0.236364</td>\n",
       "      <td>0.240225</td>\n",
       "      <td>0.059051</td>\n",
       "    </tr>\n",
       "    <tr>\n",
       "      <th>6</th>\n",
       "      <td>Alphington</td>\n",
       "      <td>1047</td>\n",
       "      <td>1718000.0</td>\n",
       "      <td>1471000.0</td>\n",
       "      <td>12.0</td>\n",
       "      <td>16.0</td>\n",
       "      <td>222.0</td>\n",
       "      <td>955.0</td>\n",
       "      <td>1443.0</td>\n",
       "      <td>1585.0</td>\n",
       "      <td>...</td>\n",
       "      <td>34.301914</td>\n",
       "      <td>3765.0</td>\n",
       "      <td>1315.0</td>\n",
       "      <td>74.114173</td>\n",
       "      <td>25.885827</td>\n",
       "      <td>5080.0</td>\n",
       "      <td>-0.143772</td>\n",
       "      <td>0.284055</td>\n",
       "      <td>0.173425</td>\n",
       "      <td>0.043701</td>\n",
       "    </tr>\n",
       "  </tbody>\n",
       "</table>\n",
       "<p>5 rows × 24 columns</p>\n",
       "</div>"
      ],
      "text/plain": [
       "       Suburb_x    ID  Jan 2020 Median  April 2020 Median  \\\n",
       "0    Abbotsford   627        1110000.0          1115000.0   \n",
       "2  Airport West   757         840000.0           785000.0   \n",
       "3     Albanvale   787         530000.0           540000.0   \n",
       "4   Albert Park   797        2423000.0          1679000.0   \n",
       "6    Alphington  1047        1718000.0          1471000.0   \n",
       "\n",
       "   Jan 2020 Number Sold  April 2020 Number Sold  0 to 4  5 to 19  20 to 39  \\\n",
       "0                  18.0                    16.0   319.0    535.0    4740.0   \n",
       "2                  32.0                    25.0   463.0   1012.0    2240.0   \n",
       "3                  14.0                    11.0   371.0   1000.0    1621.0   \n",
       "4                  26.0                    30.0   367.0    938.0    1469.0   \n",
       "6                  12.0                    16.0   222.0    955.0    1443.0   \n",
       "\n",
       "   40 to 59  ...  % holding job not requiring Tertiary  Born in Australia  \\\n",
       "0    1582.0  ...                             33.661645             4512.0   \n",
       "2    1920.0  ...                             52.160665             5064.0   \n",
       "3    1373.0  ...                             68.655257             2287.0   \n",
       "4    1943.0  ...                             30.661453             4095.0   \n",
       "6    1585.0  ...                             34.301914             3765.0   \n",
       "\n",
       "   Born outside of Australia  Percent born in Aus  \\\n",
       "0                     3672.0            55.131965   \n",
       "2                     2500.0            66.948704   \n",
       "3                     3204.0            41.649973   \n",
       "4                     2120.0            65.888978   \n",
       "6                     1315.0            74.114173   \n",
       "\n",
       "   Percent born outside of Aus  Total Population  House_price_delta  \\\n",
       "0                    44.868035            8184.0           0.004505   \n",
       "2                    33.051296            7564.0          -0.065476   \n",
       "3                    58.350027            5491.0           0.018868   \n",
       "4                    34.111022            6215.0          -0.307057   \n",
       "6                    25.885827            5080.0          -0.143772   \n",
       "\n",
       "   % 20 to 39     % 60+  % 0 to 4  \n",
       "0    0.579179  0.121823  0.038978  \n",
       "2    0.296140  0.255420  0.061211  \n",
       "3    0.295210  0.205609  0.067565  \n",
       "4    0.236364  0.240225  0.059051  \n",
       "6    0.284055  0.173425  0.043701  \n",
       "\n",
       "[5 rows x 24 columns]"
      ]
     },
     "execution_count": 28,
     "metadata": {},
     "output_type": "execute_result"
    }
   ],
   "source": [
    "house_data_complete.head()"
   ]
  },
  {
   "cell_type": "markdown",
   "metadata": {},
   "source": [
    "STEP 2: ANALYSING DATA"
   ]
  },
  {
   "cell_type": "markdown",
   "metadata": {},
   "source": [
    "With the cleaning process completely finished, the next step is to try and answer the relevant questions asked by the analysis. The first question asked in the Project was \"How are house prices affected by the COVD-19 pandemic\". The hypothesis was that the median prices of houses would drop. In order to answer this, a Normal Dsitrbution polt with percentage change in house prices for overall Melbourne from Jan 2020 to April 2020 as the x-variable was graphed as shown below.  "
   ]
  },
  {
   "cell_type": "code",
   "execution_count": 29,
   "metadata": {},
   "outputs": [],
   "source": [
    "#Plot the distribution of median house price deltas"
   ]
  },
  {
   "cell_type": "code",
   "execution_count": 30,
   "metadata": {},
   "outputs": [
    {
     "name": "stdout",
     "output_type": "stream",
     "text": [
      "House price delta Mean: -0.010849\n",
      "House price delta Std Dev: 0.093371\n",
      "House price delta Skewness: -1.384387\n",
      "House price delta Kurtosis: 8.746486\n"
     ]
    },
    {
     "data": {
      "image/png": "[encoded data removed]",
      "text/plain": [
       "<Figure size 432x288 with 1 Axes>"
      ]
     },
     "metadata": {
      "needs_background": "light"
     },
     "output_type": "display_data"
    }
   ],
   "source": [
    "delta_plot=sns.distplot(house_data_complete[\"House_price_delta\"])\n",
    "print(\"House price delta Mean: %f\" % house_data_complete[\"House_price_delta\"].mean())\n",
    "print(\"House price delta Std Dev: %f\" % house_data_complete[\"House_price_delta\"].std())\n",
    "print(\"House price delta Skewness: %f\" % house_data_complete[\"House_price_delta\"].skew())\n",
    "print(\"House price delta Kurtosis: %f\" % house_data_complete[\"House_price_delta\"].kurt())\n",
    "\n",
    "plot.title(\"House price delta distribution\")\n",
    "plot.xlabel(\"Median House Price delta (%)\")\n",
    "plot.ylabel(\"Density\")\n",
    " \n",
    "plot.show()"
   ]
  },
  {
   "cell_type": "code",
   "execution_count": 31,
   "metadata": {},
   "outputs": [],
   "source": [
    "fig1=delta_plot.get_figure()"
   ]
  },
  {
   "cell_type": "code",
   "execution_count": 32,
   "metadata": {},
   "outputs": [],
   "source": [
    "fig1.savefig('delta_distribution.png')"
   ]
  },
  {
   "cell_type": "markdown",
   "metadata": {},
   "source": [
    "The plot above showed that the distribution of median house price changes \"House_price_delta\" seems broadly normal, if somewhat negatively skewed. To do some further analysis, the Median price of houses in both Jan 2020 and April 2020 were graphed together. "
   ]
  },
  {
   "cell_type": "code",
   "execution_count": 33,
   "metadata": {},
   "outputs": [
    {
     "data": {
      "image/png": "[encoded data removed]",
      "text/plain": [
       "<Figure size 360x360 with 6 Axes>"
      ]
     },
     "metadata": {
      "needs_background": "light"
     },
     "output_type": "display_data"
    }
   ],
   "source": [
    "median_plot = sns.pairplot(house_data_complete, vars=[\"Jan 2020 Median\", \"April 2020 Median\"])"
   ]
  },
  {
   "cell_type": "code",
   "execution_count": 34,
   "metadata": {},
   "outputs": [
    {
     "name": "stdout",
     "output_type": "stream",
     "text": [
      "Jan Mean: 1053340.163934\n",
      "Jan Std Dev: 545277.808028\n",
      "Jan Skewness: 1.805127\n",
      "Jan Kurtosis: 3.748450\n",
      "Apr Mean: 1023286.885246\n",
      "Apr Std Dev: 497831.048398\n",
      "Apr Skewness: 2.038810\n",
      "Apr Kurtosis: 6.524115\n"
     ]
    },
    {
     "data": {
      "image/png": "[encoded data removed]",
      "text/plain": [
       "<Figure size 432x288 with 1 Axes>"
      ]
     },
     "metadata": {
      "needs_background": "light"
     },
     "output_type": "display_data"
    }
   ],
   "source": [
    "sns.distplot( house_data_complete[\"Jan 2020 Median\"] , norm_hist=False, kde=True, color=\"skyblue\", label=\"Jan 2020 Median\")\n",
    "houseplot=sns.distplot( house_data_complete[\"April 2020 Median\"], norm_hist=False, kde=True, color=\"red\", label=\"April 2020 Median\")\n",
    "print(\"Jan Mean: %f\" % house_data_complete[\"Jan 2020 Median\"].mean())\n",
    "print(\"Jan Std Dev: %f\" % house_data_complete[\"Jan 2020 Median\"].std())\n",
    "print(\"Jan Skewness: %f\" % house_data_complete[\"Jan 2020 Median\"].skew())\n",
    "print(\"Jan Kurtosis: %f\" % house_data_complete[\"Jan 2020 Median\"].kurt())\n",
    "\n",
    "print(\"Apr Mean: %f\" % house_data_complete[\"April 2020 Median\"].mean())\n",
    "print(\"Apr Std Dev: %f\" % house_data_complete[\"April 2020 Median\"].std())\n",
    "print(\"Apr Skewness: %f\" % house_data_complete[\"April 2020 Median\"].skew())\n",
    "print(\"Apr Kurtosis: %f\" % house_data_complete[\"April 2020 Median\"].kurt())\n",
    "\n",
    "\n",
    "plot.legend()\n",
    "plot.title(\"Median House price distribution\")\n",
    "plot.xlabel(\"Median House Price ($)\")\n",
    "plot.ylabel(\"Density\")\n",
    " \n",
    "plot.show()"
   ]
  },
  {
   "cell_type": "code",
   "execution_count": 35,
   "metadata": {},
   "outputs": [],
   "source": [
    "fig2=houseplot.get_figure()"
   ]
  },
  {
   "cell_type": "code",
   "execution_count": 36,
   "metadata": {},
   "outputs": [],
   "source": [
    "fig2.savefig('Median_house_distribution.png', bbox_inches=\"tight\")"
   ]
  },
  {
   "cell_type": "markdown",
   "metadata": {},
   "source": [
    "The graph plot shows that the median house price graph in April 2020 and January 2020 are roughly similar. However, it was noted that January 2020 had houses that were sold at migh higher prices than April 2020, so the April 2020 graph was more condensed. In order to further analyse whether the mean house prices are similar a hypothesis test was also conducted between the two months to test for statistically significant differences. The steps are shown below:"
   ]
  },
  {
   "cell_type": "code",
   "execution_count": 37,
   "metadata": {},
   "outputs": [],
   "source": [
    "#Identify Average change in median house prices for all suburbs between February 2020 and April 2020"
   ]
  },
  {
   "cell_type": "code",
   "execution_count": 38,
   "metadata": {},
   "outputs": [
    {
     "data": {
      "text/plain": [
       "-0.010849456641705361"
      ]
     },
     "execution_count": 38,
     "metadata": {},
     "output_type": "execute_result"
    }
   ],
   "source": [
    "avg_price_change=house_data_complete[\"House_price_delta\"].mean()\n",
    "avg_price_change"
   ]
  },
  {
   "cell_type": "code",
   "execution_count": 39,
   "metadata": {},
   "outputs": [],
   "source": [
    "#Calculate and store as variables information necessary for a hypothesis test regarding the mean change in median house prices\n",
    "#For reference: https://towardsdatascience.com/hypothesis-testing-in-python-one-mean-and-the-difference-in-two-means-87cb60b02a51"
   ]
  },
  {
   "cell_type": "code",
   "execution_count": 40,
   "metadata": {},
   "outputs": [],
   "source": [
    "#Identify Standard Deviation in changes in median house prices for all suburbs between February 2020 and April 2020"
   ]
  },
  {
   "cell_type": "code",
   "execution_count": 41,
   "metadata": {},
   "outputs": [
    {
     "data": {
      "text/plain": [
       "0.09337086481337784"
      ]
     },
     "execution_count": 41,
     "metadata": {},
     "output_type": "execute_result"
    }
   ],
   "source": [
    "std=house_data_complete.loc[:,\"House_price_delta\"].std()\n",
    "std"
   ]
  },
  {
   "cell_type": "code",
   "execution_count": 42,
   "metadata": {},
   "outputs": [
    {
     "name": "stdout",
     "output_type": "stream",
     "text": [
      "244\n"
     ]
    }
   ],
   "source": [
    "#Count number of observations\n",
    "n=len(house_data_complete[\"House_price_delta\"])\n",
    "print(n)"
   ]
  },
  {
   "cell_type": "code",
   "execution_count": 43,
   "metadata": {},
   "outputs": [
    {
     "name": "stdout",
     "output_type": "stream",
     "text": [
      "0.00597745710367056\n"
     ]
    }
   ],
   "source": [
    "#Standard Error\n",
    "se=std/np.sqrt(n)\n",
    "print(se)"
   ]
  },
  {
   "cell_type": "code",
   "execution_count": 44,
   "metadata": {},
   "outputs": [
    {
     "name": "stdout",
     "output_type": "stream",
     "text": [
      "-1.8150622335780655\n"
     ]
    }
   ],
   "source": [
    "#Use standard error to perform hypothesis test\n",
    "\n",
    "#Specify null and alternative hypotheses\n",
    "#Null hypothesis Ho: \"House_price_delta\"=0\n",
    "#Alternative Hypothesis H1: \"House_price_delta\"<0\n",
    "H_null=0\n",
    "H_alt=avg_price_change\n",
    "\n",
    "test_stat= (H_alt-H_null)/se\n",
    "print(test_stat)\n"
   ]
  },
  {
   "cell_type": "code",
   "execution_count": 45,
   "metadata": {},
   "outputs": [
    {
     "name": "stdout",
     "output_type": "stream",
     "text": [
      "0.0695143461719014\n"
     ]
    }
   ],
   "source": [
    "#Convert test_stat to a p-value\n",
    "pvalue = 2*dist.norm.cdf(-np.abs(test_stat))\n",
    "print(pvalue)"
   ]
  },
  {
   "cell_type": "code",
   "execution_count": 46,
   "metadata": {},
   "outputs": [],
   "source": [
    "#At this point we can reject the null at the 10% significance level"
   ]
  },
  {
   "cell_type": "markdown",
   "metadata": {},
   "source": [
    "The analysis above shows that there is a staistically significant difference between the mean house prices in April 2020 and January 2020 and the 10% significance level. This indicates that the COVID-19 pandemic has had some impact on the mean house price. "
   ]
  },
  {
   "cell_type": "code",
   "execution_count": 47,
   "metadata": {},
   "outputs": [],
   "source": [
    "#Calculate the sales volumes for the two respective months"
   ]
  },
  {
   "cell_type": "markdown",
   "metadata": {},
   "source": [
    "The sales volume in both January 2020 and April 2020 were also calculated, however tit was devided to not use this in the analysis as the difference in volume may be due to seasonal changes rather than the COVID-19 pandemic."
   ]
  },
  {
   "cell_type": "code",
   "execution_count": 48,
   "metadata": {},
   "outputs": [
    {
     "data": {
      "text/plain": [
       "10932.0"
      ]
     },
     "execution_count": 48,
     "metadata": {},
     "output_type": "execute_result"
    }
   ],
   "source": [
    "Jan_sales_volume=house_data_complete[\"Jan 2020 Number Sold\"].sum()\n",
    "Jan_sales_volume"
   ]
  },
  {
   "cell_type": "code",
   "execution_count": 49,
   "metadata": {},
   "outputs": [
    {
     "data": {
      "text/plain": [
       "9597.0"
      ]
     },
     "execution_count": 49,
     "metadata": {},
     "output_type": "execute_result"
    }
   ],
   "source": [
    "Apr_sales_volume=house_data_complete[\"April 2020 Number Sold\"].sum()\n",
    "Apr_sales_volume"
   ]
  },
  {
   "cell_type": "markdown",
   "metadata": {},
   "source": [
    "Question 2: The next question asked in the analysis was to see which postocdes have been most and least affected by COVID-19 and do some analysis to asses the difference in the demographics characteristics of these suburbs. \n",
    "\n",
    "The hypothesis was that postocdes which had a higher proportion of people who are younger, not born in Australia and do not have jobs that require a higher-skill level would live in suburbs that were more affected by the COVD-19 crises. "
   ]
  },
  {
   "cell_type": "markdown",
   "metadata": {},
   "source": [
    "To answer this question, firstly the top 10 performing suburbs and the bottom 10 performing suburbs were identified. The top 10 performing suburbs are the ones with the largest percentage increase in Median House price in April 2020 compared to January 2020. The bottom 10 performing suburbs were the ones with the highest percentage decrease in median house price in April 2020 compared to January 2020. This is shown below:"
   ]
  },
  {
   "cell_type": "code",
   "execution_count": 50,
   "metadata": {},
   "outputs": [
    {
     "data": {
      "text/html": [
       "<div>\n",
       "<style scoped>\n",
       "    .dataframe tbody tr th:only-of-type {\n",
       "        vertical-align: middle;\n",
       "    }\n",
       "\n",
       "    .dataframe tbody tr th {\n",
       "        vertical-align: top;\n",
       "    }\n",
       "\n",
       "    .dataframe thead th {\n",
       "        text-align: right;\n",
       "    }\n",
       "</style>\n",
       "<table border=\"1\" class=\"dataframe\">\n",
       "  <thead>\n",
       "    <tr style=\"text-align: right;\">\n",
       "      <th></th>\n",
       "      <th>Suburb_x</th>\n",
       "      <th>ID</th>\n",
       "      <th>Jan 2020 Median</th>\n",
       "      <th>April 2020 Median</th>\n",
       "      <th>Jan 2020 Number Sold</th>\n",
       "      <th>April 2020 Number Sold</th>\n",
       "      <th>0 to 4</th>\n",
       "      <th>5 to 19</th>\n",
       "      <th>20 to 39</th>\n",
       "      <th>40 to 59</th>\n",
       "      <th>...</th>\n",
       "      <th>% holding job not requiring Tertiary</th>\n",
       "      <th>Born in Australia</th>\n",
       "      <th>Born outside of Australia</th>\n",
       "      <th>Percent born in Aus</th>\n",
       "      <th>Percent born outside of Aus</th>\n",
       "      <th>Total Population</th>\n",
       "      <th>House_price_delta</th>\n",
       "      <th>% 20 to 39</th>\n",
       "      <th>% 60+</th>\n",
       "      <th>% 0 to 4</th>\n",
       "    </tr>\n",
       "  </thead>\n",
       "  <tbody>\n",
       "    <tr>\n",
       "      <th>182</th>\n",
       "      <td>Lower Plenty</td>\n",
       "      <td>24457</td>\n",
       "      <td>950000.0</td>\n",
       "      <td>1312000.0</td>\n",
       "      <td>12.0</td>\n",
       "      <td>12.0</td>\n",
       "      <td>214.0</td>\n",
       "      <td>625.0</td>\n",
       "      <td>902.0</td>\n",
       "      <td>1055.0</td>\n",
       "      <td>...</td>\n",
       "      <td>41.586794</td>\n",
       "      <td>3091.0</td>\n",
       "      <td>800.0</td>\n",
       "      <td>79.439733</td>\n",
       "      <td>20.560267</td>\n",
       "      <td>3891.0</td>\n",
       "      <td>0.381053</td>\n",
       "      <td>0.231817</td>\n",
       "      <td>0.278078</td>\n",
       "      <td>0.054999</td>\n",
       "    </tr>\n",
       "    <tr>\n",
       "      <th>65</th>\n",
       "      <td>Carrum</td>\n",
       "      <td>8497</td>\n",
       "      <td>660000.0</td>\n",
       "      <td>778000.0</td>\n",
       "      <td>17.0</td>\n",
       "      <td>14.0</td>\n",
       "      <td>258.0</td>\n",
       "      <td>569.0</td>\n",
       "      <td>1111.0</td>\n",
       "      <td>1128.0</td>\n",
       "      <td>...</td>\n",
       "      <td>48.617396</td>\n",
       "      <td>2830.0</td>\n",
       "      <td>1150.0</td>\n",
       "      <td>71.105528</td>\n",
       "      <td>28.894472</td>\n",
       "      <td>3980.0</td>\n",
       "      <td>0.178788</td>\n",
       "      <td>0.279146</td>\n",
       "      <td>0.228894</td>\n",
       "      <td>0.064824</td>\n",
       "    </tr>\n",
       "    <tr>\n",
       "      <th>125</th>\n",
       "      <td>Fitzroy North</td>\n",
       "      <td>14567</td>\n",
       "      <td>1370000.0</td>\n",
       "      <td>1607000.0</td>\n",
       "      <td>23.0</td>\n",
       "      <td>30.0</td>\n",
       "      <td>522.0</td>\n",
       "      <td>1460.0</td>\n",
       "      <td>5054.0</td>\n",
       "      <td>3084.0</td>\n",
       "      <td>...</td>\n",
       "      <td>31.327182</td>\n",
       "      <td>8302.0</td>\n",
       "      <td>4037.0</td>\n",
       "      <td>67.282600</td>\n",
       "      <td>32.717400</td>\n",
       "      <td>12339.0</td>\n",
       "      <td>0.172993</td>\n",
       "      <td>0.409596</td>\n",
       "      <td>0.179836</td>\n",
       "      <td>0.042305</td>\n",
       "    </tr>\n",
       "    <tr>\n",
       "      <th>285</th>\n",
       "      <td>Toorak</td>\n",
       "      <td>40457</td>\n",
       "      <td>3430000.0</td>\n",
       "      <td>4015000.0</td>\n",
       "      <td>24.0</td>\n",
       "      <td>23.0</td>\n",
       "      <td>395.0</td>\n",
       "      <td>1661.0</td>\n",
       "      <td>3687.0</td>\n",
       "      <td>3108.0</td>\n",
       "      <td>...</td>\n",
       "      <td>34.283074</td>\n",
       "      <td>8229.0</td>\n",
       "      <td>4680.0</td>\n",
       "      <td>63.746224</td>\n",
       "      <td>36.253776</td>\n",
       "      <td>12909.0</td>\n",
       "      <td>0.170554</td>\n",
       "      <td>0.285615</td>\n",
       "      <td>0.314664</td>\n",
       "      <td>0.030599</td>\n",
       "    </tr>\n",
       "    <tr>\n",
       "      <th>192</th>\n",
       "      <td>Melton West</td>\n",
       "      <td>26007</td>\n",
       "      <td>438000.0</td>\n",
       "      <td>508000.0</td>\n",
       "      <td>33.0</td>\n",
       "      <td>24.0</td>\n",
       "      <td>1645.0</td>\n",
       "      <td>3997.0</td>\n",
       "      <td>5424.0</td>\n",
       "      <td>4186.0</td>\n",
       "      <td>...</td>\n",
       "      <td>64.238064</td>\n",
       "      <td>12225.0</td>\n",
       "      <td>5364.0</td>\n",
       "      <td>69.503667</td>\n",
       "      <td>30.496333</td>\n",
       "      <td>17589.0</td>\n",
       "      <td>0.159817</td>\n",
       "      <td>0.308375</td>\n",
       "      <td>0.132867</td>\n",
       "      <td>0.093524</td>\n",
       "    </tr>\n",
       "    <tr>\n",
       "      <th>12</th>\n",
       "      <td>Ascot Vale</td>\n",
       "      <td>1757</td>\n",
       "      <td>1066000.0</td>\n",
       "      <td>1236000.0</td>\n",
       "      <td>32.0</td>\n",
       "      <td>32.0</td>\n",
       "      <td>1062.0</td>\n",
       "      <td>2252.0</td>\n",
       "      <td>5158.0</td>\n",
       "      <td>4054.0</td>\n",
       "      <td>...</td>\n",
       "      <td>41.106148</td>\n",
       "      <td>9499.0</td>\n",
       "      <td>5251.0</td>\n",
       "      <td>64.400000</td>\n",
       "      <td>35.600000</td>\n",
       "      <td>14750.0</td>\n",
       "      <td>0.159475</td>\n",
       "      <td>0.349695</td>\n",
       "      <td>0.151322</td>\n",
       "      <td>0.072000</td>\n",
       "    </tr>\n",
       "    <tr>\n",
       "      <th>307</th>\n",
       "      <td>Williamstown</td>\n",
       "      <td>43967</td>\n",
       "      <td>1327000.0</td>\n",
       "      <td>1535000.0</td>\n",
       "      <td>36.0</td>\n",
       "      <td>36.0</td>\n",
       "      <td>764.0</td>\n",
       "      <td>2891.0</td>\n",
       "      <td>2749.0</td>\n",
       "      <td>4634.0</td>\n",
       "      <td>...</td>\n",
       "      <td>37.348871</td>\n",
       "      <td>10264.0</td>\n",
       "      <td>3705.0</td>\n",
       "      <td>73.476985</td>\n",
       "      <td>26.523015</td>\n",
       "      <td>13969.0</td>\n",
       "      <td>0.156745</td>\n",
       "      <td>0.196793</td>\n",
       "      <td>0.209177</td>\n",
       "      <td>0.054693</td>\n",
       "    </tr>\n",
       "    <tr>\n",
       "      <th>250</th>\n",
       "      <td>Sandringham</td>\n",
       "      <td>35637</td>\n",
       "      <td>1538000.0</td>\n",
       "      <td>1770000.0</td>\n",
       "      <td>32.0</td>\n",
       "      <td>29.0</td>\n",
       "      <td>492.0</td>\n",
       "      <td>1923.0</td>\n",
       "      <td>1960.0</td>\n",
       "      <td>3122.0</td>\n",
       "      <td>...</td>\n",
       "      <td>36.064257</td>\n",
       "      <td>7167.0</td>\n",
       "      <td>3074.0</td>\n",
       "      <td>69.983400</td>\n",
       "      <td>30.016600</td>\n",
       "      <td>10241.0</td>\n",
       "      <td>0.150845</td>\n",
       "      <td>0.191388</td>\n",
       "      <td>0.267259</td>\n",
       "      <td>0.048042</td>\n",
       "    </tr>\n",
       "    <tr>\n",
       "      <th>7</th>\n",
       "      <td>Altona</td>\n",
       "      <td>1057</td>\n",
       "      <td>888000.0</td>\n",
       "      <td>1019000.0</td>\n",
       "      <td>44.0</td>\n",
       "      <td>32.0</td>\n",
       "      <td>668.0</td>\n",
       "      <td>1565.0</td>\n",
       "      <td>2836.0</td>\n",
       "      <td>3008.0</td>\n",
       "      <td>...</td>\n",
       "      <td>46.870708</td>\n",
       "      <td>6955.0</td>\n",
       "      <td>3807.0</td>\n",
       "      <td>64.625534</td>\n",
       "      <td>35.374466</td>\n",
       "      <td>10762.0</td>\n",
       "      <td>0.147523</td>\n",
       "      <td>0.263520</td>\n",
       "      <td>0.250139</td>\n",
       "      <td>0.062070</td>\n",
       "    </tr>\n",
       "    <tr>\n",
       "      <th>108</th>\n",
       "      <td>Eaglemont</td>\n",
       "      <td>13037</td>\n",
       "      <td>1663000.0</td>\n",
       "      <td>1900000.0</td>\n",
       "      <td>18.0</td>\n",
       "      <td>14.0</td>\n",
       "      <td>154.0</td>\n",
       "      <td>766.0</td>\n",
       "      <td>801.0</td>\n",
       "      <td>1151.0</td>\n",
       "      <td>...</td>\n",
       "      <td>36.791498</td>\n",
       "      <td>2838.0</td>\n",
       "      <td>1035.0</td>\n",
       "      <td>73.276530</td>\n",
       "      <td>26.723470</td>\n",
       "      <td>3873.0</td>\n",
       "      <td>0.142514</td>\n",
       "      <td>0.206816</td>\n",
       "      <td>0.256907</td>\n",
       "      <td>0.039762</td>\n",
       "    </tr>\n",
       "  </tbody>\n",
       "</table>\n",
       "<p>10 rows × 24 columns</p>\n",
       "</div>"
      ],
      "text/plain": [
       "          Suburb_x     ID  Jan 2020 Median  April 2020 Median  \\\n",
       "182   Lower Plenty  24457         950000.0          1312000.0   \n",
       "65          Carrum   8497         660000.0           778000.0   \n",
       "125  Fitzroy North  14567        1370000.0          1607000.0   \n",
       "285         Toorak  40457        3430000.0          4015000.0   \n",
       "192    Melton West  26007         438000.0           508000.0   \n",
       "12      Ascot Vale   1757        1066000.0          1236000.0   \n",
       "307   Williamstown  43967        1327000.0          1535000.0   \n",
       "250    Sandringham  35637        1538000.0          1770000.0   \n",
       "7           Altona   1057         888000.0          1019000.0   \n",
       "108      Eaglemont  13037        1663000.0          1900000.0   \n",
       "\n",
       "     Jan 2020 Number Sold  April 2020 Number Sold  0 to 4  5 to 19  20 to 39  \\\n",
       "182                  12.0                    12.0   214.0    625.0     902.0   \n",
       "65                   17.0                    14.0   258.0    569.0    1111.0   \n",
       "125                  23.0                    30.0   522.0   1460.0    5054.0   \n",
       "285                  24.0                    23.0   395.0   1661.0    3687.0   \n",
       "192                  33.0                    24.0  1645.0   3997.0    5424.0   \n",
       "12                   32.0                    32.0  1062.0   2252.0    5158.0   \n",
       "307                  36.0                    36.0   764.0   2891.0    2749.0   \n",
       "250                  32.0                    29.0   492.0   1923.0    1960.0   \n",
       "7                    44.0                    32.0   668.0   1565.0    2836.0   \n",
       "108                  18.0                    14.0   154.0    766.0     801.0   \n",
       "\n",
       "     40 to 59  ...  % holding job not requiring Tertiary  Born in Australia  \\\n",
       "182    1055.0  ...                             41.586794             3091.0   \n",
       "65     1128.0  ...                             48.617396             2830.0   \n",
       "125    3084.0  ...                             31.327182             8302.0   \n",
       "285    3108.0  ...                             34.283074             8229.0   \n",
       "192    4186.0  ...                             64.238064            12225.0   \n",
       "12     4054.0  ...                             41.106148             9499.0   \n",
       "307    4634.0  ...                             37.348871            10264.0   \n",
       "250    3122.0  ...                             36.064257             7167.0   \n",
       "7      3008.0  ...                             46.870708             6955.0   \n",
       "108    1151.0  ...                             36.791498             2838.0   \n",
       "\n",
       "     Born outside of Australia  Percent born in Aus  \\\n",
       "182                      800.0            79.439733   \n",
       "65                      1150.0            71.105528   \n",
       "125                     4037.0            67.282600   \n",
       "285                     4680.0            63.746224   \n",
       "192                     5364.0            69.503667   \n",
       "12                      5251.0            64.400000   \n",
       "307                     3705.0            73.476985   \n",
       "250                     3074.0            69.983400   \n",
       "7                       3807.0            64.625534   \n",
       "108                     1035.0            73.276530   \n",
       "\n",
       "     Percent born outside of Aus  Total Population  House_price_delta  \\\n",
       "182                    20.560267            3891.0           0.381053   \n",
       "65                     28.894472            3980.0           0.178788   \n",
       "125                    32.717400           12339.0           0.172993   \n",
       "285                    36.253776           12909.0           0.170554   \n",
       "192                    30.496333           17589.0           0.159817   \n",
       "12                     35.600000           14750.0           0.159475   \n",
       "307                    26.523015           13969.0           0.156745   \n",
       "250                    30.016600           10241.0           0.150845   \n",
       "7                      35.374466           10762.0           0.147523   \n",
       "108                    26.723470            3873.0           0.142514   \n",
       "\n",
       "     % 20 to 39     % 60+  % 0 to 4  \n",
       "182    0.231817  0.278078  0.054999  \n",
       "65     0.279146  0.228894  0.064824  \n",
       "125    0.409596  0.179836  0.042305  \n",
       "285    0.285615  0.314664  0.030599  \n",
       "192    0.308375  0.132867  0.093524  \n",
       "12     0.349695  0.151322  0.072000  \n",
       "307    0.196793  0.209177  0.054693  \n",
       "250    0.191388  0.267259  0.048042  \n",
       "7      0.263520  0.250139  0.062070  \n",
       "108    0.206816  0.256907  0.039762  \n",
       "\n",
       "[10 rows x 24 columns]"
      ]
     },
     "execution_count": 50,
     "metadata": {},
     "output_type": "execute_result"
    }
   ],
   "source": [
    "#Identify top 10 performing suburbs\n",
    "top_10_suburbs=house_data_complete.nlargest(10, \"House_price_delta\")\n",
    "top_10_suburbs"
   ]
  },
  {
   "cell_type": "code",
   "execution_count": 51,
   "metadata": {},
   "outputs": [
    {
     "data": {
      "text/plain": [
       "271.0"
      ]
     },
     "execution_count": 51,
     "metadata": {},
     "output_type": "execute_result"
    }
   ],
   "source": [
    "top_Jan_sales_volume=top_10_suburbs[\"Jan 2020 Number Sold\"].sum()\n",
    "top_April_sales_volume=top_10_suburbs[\"April 2020 Number Sold\"].sum()\n",
    "top_Jan_sales_volume"
   ]
  },
  {
   "cell_type": "code",
   "execution_count": 52,
   "metadata": {},
   "outputs": [
    {
     "data": {
      "text/plain": [
       "246.0"
      ]
     },
     "execution_count": 52,
     "metadata": {},
     "output_type": "execute_result"
    }
   ],
   "source": [
    "top_April_sales_volume"
   ]
  },
  {
   "cell_type": "code",
   "execution_count": 53,
   "metadata": {},
   "outputs": [
    {
     "data": {
      "text/plain": [
       "pandas.core.frame.DataFrame"
      ]
     },
     "execution_count": 53,
     "metadata": {},
     "output_type": "execute_result"
    }
   ],
   "source": [
    "type(top_10_suburbs)"
   ]
  },
  {
   "cell_type": "code",
   "execution_count": 54,
   "metadata": {},
   "outputs": [
    {
     "data": {
      "text/html": [
       "<div>\n",
       "<style scoped>\n",
       "    .dataframe tbody tr th:only-of-type {\n",
       "        vertical-align: middle;\n",
       "    }\n",
       "\n",
       "    .dataframe tbody tr th {\n",
       "        vertical-align: top;\n",
       "    }\n",
       "\n",
       "    .dataframe thead th {\n",
       "        text-align: right;\n",
       "    }\n",
       "</style>\n",
       "<table border=\"1\" class=\"dataframe\">\n",
       "  <thead>\n",
       "    <tr style=\"text-align: right;\">\n",
       "      <th></th>\n",
       "      <th>Suburb_x</th>\n",
       "      <th>ID</th>\n",
       "      <th>Jan 2020 Median</th>\n",
       "      <th>April 2020 Median</th>\n",
       "      <th>Jan 2020 Number Sold</th>\n",
       "      <th>April 2020 Number Sold</th>\n",
       "      <th>0 to 4</th>\n",
       "      <th>5 to 19</th>\n",
       "      <th>20 to 39</th>\n",
       "      <th>40 to 59</th>\n",
       "      <th>...</th>\n",
       "      <th>% holding job not requiring Tertiary</th>\n",
       "      <th>Born in Australia</th>\n",
       "      <th>Born outside of Australia</th>\n",
       "      <th>Percent born in Aus</th>\n",
       "      <th>Percent born outside of Aus</th>\n",
       "      <th>Total Population</th>\n",
       "      <th>House_price_delta</th>\n",
       "      <th>% 20 to 39</th>\n",
       "      <th>% 60+</th>\n",
       "      <th>% 0 to 4</th>\n",
       "    </tr>\n",
       "  </thead>\n",
       "  <tbody>\n",
       "    <tr>\n",
       "      <th>268</th>\n",
       "      <td>St Kilda</td>\n",
       "      <td>37407</td>\n",
       "      <td>3100000.0</td>\n",
       "      <td>1239000.0</td>\n",
       "      <td>25.0</td>\n",
       "      <td>12.0</td>\n",
       "      <td>625.0</td>\n",
       "      <td>1178.0</td>\n",
       "      <td>10664.0</td>\n",
       "      <td>5205.0</td>\n",
       "      <td>...</td>\n",
       "      <td>38.689985</td>\n",
       "      <td>10366.0</td>\n",
       "      <td>9864.0</td>\n",
       "      <td>51.240732</td>\n",
       "      <td>48.759268</td>\n",
       "      <td>20230.0</td>\n",
       "      <td>-0.600323</td>\n",
       "      <td>0.527138</td>\n",
       "      <td>0.125853</td>\n",
       "      <td>0.030895</td>\n",
       "    </tr>\n",
       "    <tr>\n",
       "      <th>184</th>\n",
       "      <td>Malvern</td>\n",
       "      <td>25047</td>\n",
       "      <td>2878000.0</td>\n",
       "      <td>1779000.0</td>\n",
       "      <td>22.0</td>\n",
       "      <td>21.0</td>\n",
       "      <td>518.0</td>\n",
       "      <td>1789.0</td>\n",
       "      <td>2606.0</td>\n",
       "      <td>2570.0</td>\n",
       "      <td>...</td>\n",
       "      <td>32.984401</td>\n",
       "      <td>7148.0</td>\n",
       "      <td>2918.0</td>\n",
       "      <td>71.011325</td>\n",
       "      <td>28.988675</td>\n",
       "      <td>10066.0</td>\n",
       "      <td>-0.381862</td>\n",
       "      <td>0.258891</td>\n",
       "      <td>0.255613</td>\n",
       "      <td>0.051460</td>\n",
       "    </tr>\n",
       "    <tr>\n",
       "      <th>11</th>\n",
       "      <td>Armadale</td>\n",
       "      <td>1587</td>\n",
       "      <td>3250000.0</td>\n",
       "      <td>2100000.0</td>\n",
       "      <td>19.0</td>\n",
       "      <td>23.0</td>\n",
       "      <td>461.0</td>\n",
       "      <td>1179.0</td>\n",
       "      <td>3270.0</td>\n",
       "      <td>2139.0</td>\n",
       "      <td>...</td>\n",
       "      <td>36.648250</td>\n",
       "      <td>5811.0</td>\n",
       "      <td>3243.0</td>\n",
       "      <td>64.181577</td>\n",
       "      <td>35.818423</td>\n",
       "      <td>9054.0</td>\n",
       "      <td>-0.353846</td>\n",
       "      <td>0.361166</td>\n",
       "      <td>0.221118</td>\n",
       "      <td>0.050917</td>\n",
       "    </tr>\n",
       "    <tr>\n",
       "      <th>4</th>\n",
       "      <td>Albert Park</td>\n",
       "      <td>797</td>\n",
       "      <td>2423000.0</td>\n",
       "      <td>1679000.0</td>\n",
       "      <td>26.0</td>\n",
       "      <td>30.0</td>\n",
       "      <td>367.0</td>\n",
       "      <td>938.0</td>\n",
       "      <td>1469.0</td>\n",
       "      <td>1943.0</td>\n",
       "      <td>...</td>\n",
       "      <td>30.661453</td>\n",
       "      <td>4095.0</td>\n",
       "      <td>2120.0</td>\n",
       "      <td>65.888978</td>\n",
       "      <td>34.111022</td>\n",
       "      <td>6215.0</td>\n",
       "      <td>-0.307057</td>\n",
       "      <td>0.236364</td>\n",
       "      <td>0.240225</td>\n",
       "      <td>0.059051</td>\n",
       "    </tr>\n",
       "    <tr>\n",
       "      <th>269</th>\n",
       "      <td>Strathmore</td>\n",
       "      <td>38037</td>\n",
       "      <td>1525000.0</td>\n",
       "      <td>1113000.0</td>\n",
       "      <td>33.0</td>\n",
       "      <td>21.0</td>\n",
       "      <td>414.0</td>\n",
       "      <td>1849.0</td>\n",
       "      <td>1849.0</td>\n",
       "      <td>2547.0</td>\n",
       "      <td>...</td>\n",
       "      <td>43.517449</td>\n",
       "      <td>6602.0</td>\n",
       "      <td>1817.0</td>\n",
       "      <td>78.417864</td>\n",
       "      <td>21.582136</td>\n",
       "      <td>8419.0</td>\n",
       "      <td>-0.270164</td>\n",
       "      <td>0.219622</td>\n",
       "      <td>0.208932</td>\n",
       "      <td>0.049174</td>\n",
       "    </tr>\n",
       "    <tr>\n",
       "      <th>124</th>\n",
       "      <td>Fitzroy</td>\n",
       "      <td>14527</td>\n",
       "      <td>1545000.0</td>\n",
       "      <td>1193000.0</td>\n",
       "      <td>16.0</td>\n",
       "      <td>19.0</td>\n",
       "      <td>546.0</td>\n",
       "      <td>952.0</td>\n",
       "      <td>5015.0</td>\n",
       "      <td>2474.0</td>\n",
       "      <td>...</td>\n",
       "      <td>32.945736</td>\n",
       "      <td>5555.0</td>\n",
       "      <td>4890.0</td>\n",
       "      <td>53.183341</td>\n",
       "      <td>46.816659</td>\n",
       "      <td>10445.0</td>\n",
       "      <td>-0.227832</td>\n",
       "      <td>0.480134</td>\n",
       "      <td>0.140354</td>\n",
       "      <td>0.052274</td>\n",
       "    </tr>\n",
       "    <tr>\n",
       "      <th>77</th>\n",
       "      <td>Clayton</td>\n",
       "      <td>9327</td>\n",
       "      <td>1200000.0</td>\n",
       "      <td>948000.0</td>\n",
       "      <td>25.0</td>\n",
       "      <td>30.0</td>\n",
       "      <td>848.0</td>\n",
       "      <td>3057.0</td>\n",
       "      <td>10928.0</td>\n",
       "      <td>2277.0</td>\n",
       "      <td>...</td>\n",
       "      <td>51.897777</td>\n",
       "      <td>4962.0</td>\n",
       "      <td>14396.0</td>\n",
       "      <td>25.632813</td>\n",
       "      <td>74.367187</td>\n",
       "      <td>19358.0</td>\n",
       "      <td>-0.210000</td>\n",
       "      <td>0.564521</td>\n",
       "      <td>0.116024</td>\n",
       "      <td>0.043806</td>\n",
       "    </tr>\n",
       "    <tr>\n",
       "      <th>296</th>\n",
       "      <td>Warrandyte</td>\n",
       "      <td>42597</td>\n",
       "      <td>1225000.0</td>\n",
       "      <td>980000.0</td>\n",
       "      <td>14.0</td>\n",
       "      <td>21.0</td>\n",
       "      <td>203.0</td>\n",
       "      <td>1315.0</td>\n",
       "      <td>984.0</td>\n",
       "      <td>1809.0</td>\n",
       "      <td>...</td>\n",
       "      <td>39.845668</td>\n",
       "      <td>4202.0</td>\n",
       "      <td>1300.0</td>\n",
       "      <td>76.372228</td>\n",
       "      <td>23.627772</td>\n",
       "      <td>5502.0</td>\n",
       "      <td>-0.200000</td>\n",
       "      <td>0.178844</td>\n",
       "      <td>0.214104</td>\n",
       "      <td>0.036896</td>\n",
       "    </tr>\n",
       "    <tr>\n",
       "      <th>149</th>\n",
       "      <td>Healesville</td>\n",
       "      <td>18247</td>\n",
       "      <td>710000.0</td>\n",
       "      <td>580000.0</td>\n",
       "      <td>24.0</td>\n",
       "      <td>22.0</td>\n",
       "      <td>444.0</td>\n",
       "      <td>1341.0</td>\n",
       "      <td>1474.0</td>\n",
       "      <td>2140.0</td>\n",
       "      <td>...</td>\n",
       "      <td>51.476408</td>\n",
       "      <td>5776.0</td>\n",
       "      <td>1685.0</td>\n",
       "      <td>77.415896</td>\n",
       "      <td>22.584104</td>\n",
       "      <td>7461.0</td>\n",
       "      <td>-0.183099</td>\n",
       "      <td>0.197561</td>\n",
       "      <td>0.276102</td>\n",
       "      <td>0.059509</td>\n",
       "    </tr>\n",
       "    <tr>\n",
       "      <th>72</th>\n",
       "      <td>Chelsea</td>\n",
       "      <td>8927</td>\n",
       "      <td>890000.0</td>\n",
       "      <td>729000.0</td>\n",
       "      <td>22.0</td>\n",
       "      <td>31.0</td>\n",
       "      <td>558.0</td>\n",
       "      <td>1042.0</td>\n",
       "      <td>2104.0</td>\n",
       "      <td>2045.0</td>\n",
       "      <td>...</td>\n",
       "      <td>47.782313</td>\n",
       "      <td>5267.0</td>\n",
       "      <td>2506.0</td>\n",
       "      <td>67.760196</td>\n",
       "      <td>32.239804</td>\n",
       "      <td>7773.0</td>\n",
       "      <td>-0.180899</td>\n",
       "      <td>0.270681</td>\n",
       "      <td>0.260389</td>\n",
       "      <td>0.071787</td>\n",
       "    </tr>\n",
       "  </tbody>\n",
       "</table>\n",
       "<p>10 rows × 24 columns</p>\n",
       "</div>"
      ],
      "text/plain": [
       "        Suburb_x     ID  Jan 2020 Median  April 2020 Median  \\\n",
       "268     St Kilda  37407        3100000.0          1239000.0   \n",
       "184      Malvern  25047        2878000.0          1779000.0   \n",
       "11      Armadale   1587        3250000.0          2100000.0   \n",
       "4    Albert Park    797        2423000.0          1679000.0   \n",
       "269   Strathmore  38037        1525000.0          1113000.0   \n",
       "124      Fitzroy  14527        1545000.0          1193000.0   \n",
       "77       Clayton   9327        1200000.0           948000.0   \n",
       "296   Warrandyte  42597        1225000.0           980000.0   \n",
       "149  Healesville  18247         710000.0           580000.0   \n",
       "72       Chelsea   8927         890000.0           729000.0   \n",
       "\n",
       "     Jan 2020 Number Sold  April 2020 Number Sold  0 to 4  5 to 19  20 to 39  \\\n",
       "268                  25.0                    12.0   625.0   1178.0   10664.0   \n",
       "184                  22.0                    21.0   518.0   1789.0    2606.0   \n",
       "11                   19.0                    23.0   461.0   1179.0    3270.0   \n",
       "4                    26.0                    30.0   367.0    938.0    1469.0   \n",
       "269                  33.0                    21.0   414.0   1849.0    1849.0   \n",
       "124                  16.0                    19.0   546.0    952.0    5015.0   \n",
       "77                   25.0                    30.0   848.0   3057.0   10928.0   \n",
       "296                  14.0                    21.0   203.0   1315.0     984.0   \n",
       "149                  24.0                    22.0   444.0   1341.0    1474.0   \n",
       "72                   22.0                    31.0   558.0   1042.0    2104.0   \n",
       "\n",
       "     40 to 59  ...  % holding job not requiring Tertiary  Born in Australia  \\\n",
       "268    5205.0  ...                             38.689985            10366.0   \n",
       "184    2570.0  ...                             32.984401             7148.0   \n",
       "11     2139.0  ...                             36.648250             5811.0   \n",
       "4      1943.0  ...                             30.661453             4095.0   \n",
       "269    2547.0  ...                             43.517449             6602.0   \n",
       "124    2474.0  ...                             32.945736             5555.0   \n",
       "77     2277.0  ...                             51.897777             4962.0   \n",
       "296    1809.0  ...                             39.845668             4202.0   \n",
       "149    2140.0  ...                             51.476408             5776.0   \n",
       "72     2045.0  ...                             47.782313             5267.0   \n",
       "\n",
       "     Born outside of Australia  Percent born in Aus  \\\n",
       "268                     9864.0            51.240732   \n",
       "184                     2918.0            71.011325   \n",
       "11                      3243.0            64.181577   \n",
       "4                       2120.0            65.888978   \n",
       "269                     1817.0            78.417864   \n",
       "124                     4890.0            53.183341   \n",
       "77                     14396.0            25.632813   \n",
       "296                     1300.0            76.372228   \n",
       "149                     1685.0            77.415896   \n",
       "72                      2506.0            67.760196   \n",
       "\n",
       "     Percent born outside of Aus  Total Population  House_price_delta  \\\n",
       "268                    48.759268           20230.0          -0.600323   \n",
       "184                    28.988675           10066.0          -0.381862   \n",
       "11                     35.818423            9054.0          -0.353846   \n",
       "4                      34.111022            6215.0          -0.307057   \n",
       "269                    21.582136            8419.0          -0.270164   \n",
       "124                    46.816659           10445.0          -0.227832   \n",
       "77                     74.367187           19358.0          -0.210000   \n",
       "296                    23.627772            5502.0          -0.200000   \n",
       "149                    22.584104            7461.0          -0.183099   \n",
       "72                     32.239804            7773.0          -0.180899   \n",
       "\n",
       "     % 20 to 39     % 60+  % 0 to 4  \n",
       "268    0.527138  0.125853  0.030895  \n",
       "184    0.258891  0.255613  0.051460  \n",
       "11     0.361166  0.221118  0.050917  \n",
       "4      0.236364  0.240225  0.059051  \n",
       "269    0.219622  0.208932  0.049174  \n",
       "124    0.480134  0.140354  0.052274  \n",
       "77     0.564521  0.116024  0.043806  \n",
       "296    0.178844  0.214104  0.036896  \n",
       "149    0.197561  0.276102  0.059509  \n",
       "72     0.270681  0.260389  0.071787  \n",
       "\n",
       "[10 rows x 24 columns]"
      ]
     },
     "execution_count": 54,
     "metadata": {},
     "output_type": "execute_result"
    }
   ],
   "source": [
    "#Identify the 10 worst performing suburbs\n",
    "bottom_10_suburbs=house_data_complete.nsmallest(10, \"House_price_delta\")\n",
    "bottom_10_suburbs"
   ]
  },
  {
   "cell_type": "code",
   "execution_count": 55,
   "metadata": {},
   "outputs": [
    {
     "data": {
      "text/plain": [
       "226.0"
      ]
     },
     "execution_count": 55,
     "metadata": {},
     "output_type": "execute_result"
    }
   ],
   "source": [
    "bottom_Jan_sales_volume=bottom_10_suburbs[\"Jan 2020 Number Sold\"].sum()\n",
    "bottom_April_sales_volume=bottom_10_suburbs[\"April 2020 Number Sold\"].sum()\n",
    "bottom_Jan_sales_volume"
   ]
  },
  {
   "cell_type": "code",
   "execution_count": 56,
   "metadata": {},
   "outputs": [
    {
     "data": {
      "text/plain": [
       "230.0"
      ]
     },
     "execution_count": 56,
     "metadata": {},
     "output_type": "execute_result"
    }
   ],
   "source": [
    "bottom_April_sales_volume"
   ]
  },
  {
   "cell_type": "markdown",
   "metadata": {},
   "source": [
    "Once the top 10 and the bottom 10 suburbs were identified, some analysis was run on the different demographic characteristics of this suburb, includng age group, migrant status and the proportion of people holding jobs requiring a tertiary qualification. "
   ]
  },
  {
   "cell_type": "markdown",
   "metadata": {},
   "source": [
    "This was firstly done for age, where the total number of people in each age group for all the suburbs were added and then a percentage was obtained. This was done for the top 10 suburbs and bottom 10 suburbs and then graphed as shown below: "
   ]
  },
  {
   "cell_type": "code",
   "execution_count": 57,
   "metadata": {},
   "outputs": [],
   "source": [
    "#Let's run a linear regression, using OLS, to test the validity of our various hypotheses"
   ]
  },
  {
   "cell_type": "code",
   "execution_count": 58,
   "metadata": {},
   "outputs": [],
   "source": [
    "#Creating a summary age table from top 10 suburbs by the total in each age group\n",
    "zero_four = top_10_suburbs['0 to 4'].sum()\n",
    "five_19=top_10_suburbs['5 to 19'].sum()\n",
    "twenty_39=top_10_suburbs['20 to 39'].sum()\n",
    "forty_59=top_10_suburbs['40 to 59'].sum()\n",
    "sixty_plus=top_10_suburbs['60+'].sum()"
   ]
  },
  {
   "cell_type": "code",
   "execution_count": 59,
   "metadata": {},
   "outputs": [],
   "source": [
    "#Creating a summary age table from bottom 10 suburbs by adding the total in each age group\n",
    "zero_four_1 = bottom_10_suburbs['0 to 4'].sum()\n",
    "five_19_1=bottom_10_suburbs['5 to 19'].sum()\n",
    "twenty_39_1=bottom_10_suburbs['20 to 39'].sum()\n",
    "forty_59_1=bottom_10_suburbs['40 to 59'].sum()\n",
    "sixty_plus_1=bottom_10_suburbs['60+'].sum()"
   ]
  },
  {
   "cell_type": "code",
   "execution_count": 60,
   "metadata": {},
   "outputs": [],
   "source": [
    "#Creating a summary table of frequency in each age group for top 10 suburbs and bottom 10 suburbs \n",
    "age_summary_overall = pd.DataFrame(np.array([[\"0 to 4\", zero_four, zero_four_1], [\"5 to 19\", five_19, five_19_1], [\"20 to 39\", twenty_39, twenty_39_1], [\"40 to 59\", forty_59, forty_59_1], [\"60+\", sixty_plus, sixty_plus_1]]),\n",
    "columns=['Age Group', 'Frequency Top', 'Frequency Bottom' ])\n",
    "\n",
    "#Mapping variables in age summary table to a float variable so they can be converted into percentages \n",
    "age_summary_overall['Frequency Top'] = age_summary_overall['Frequency Top'].astype(float)\n",
    "age_summary_overall['Frequency Bottom'] = age_summary_overall['Frequency Bottom'].astype(float)\n"
   ]
  },
  {
   "cell_type": "code",
   "execution_count": 61,
   "metadata": {},
   "outputs": [],
   "source": [
    "#Getting the total number of people who live in top 10 suburbs and bottom 10 suburbs \n",
    "# This is so that the age group frequencies can be converted into percentages\n",
    "total_top = age_summary_overall['Frequency Top'].sum()\n",
    "\n",
    "total_bottom = age_summary_overall['Frequency Bottom'].sum()"
   ]
  },
  {
   "cell_type": "code",
   "execution_count": 62,
   "metadata": {},
   "outputs": [],
   "source": [
    "#Converting values into a percentage and adding it to the table \n",
    "age_summary_overall[\"Top 10 Suburbs\"]=(age_summary_overall['Frequency Top']/total_top)*100\n",
    "age_summary_overall[\"Bottom 10 Suburbs\"]=(age_summary_overall['Frequency Bottom']/total_bottom)*100\n",
    "age_summary_overall=age_summary_overall.set_index('Age Group')\n"
   ]
  },
  {
   "cell_type": "code",
   "execution_count": 63,
   "metadata": {},
   "outputs": [
    {
     "data": {
      "text/html": [
       "<div>\n",
       "<style scoped>\n",
       "    .dataframe tbody tr th:only-of-type {\n",
       "        vertical-align: middle;\n",
       "    }\n",
       "\n",
       "    .dataframe tbody tr th {\n",
       "        vertical-align: top;\n",
       "    }\n",
       "\n",
       "    .dataframe thead th {\n",
       "        text-align: right;\n",
       "    }\n",
       "</style>\n",
       "<table border=\"1\" class=\"dataframe\">\n",
       "  <thead>\n",
       "    <tr style=\"text-align: right;\">\n",
       "      <th></th>\n",
       "      <th>Top 10 Suburbs</th>\n",
       "      <th>Bottom 10 Suburbs</th>\n",
       "    </tr>\n",
       "    <tr>\n",
       "      <th>Age Group</th>\n",
       "      <th></th>\n",
       "      <th></th>\n",
       "    </tr>\n",
       "  </thead>\n",
       "  <tbody>\n",
       "    <tr>\n",
       "      <th>0 to 4</th>\n",
       "      <td>5.920371</td>\n",
       "      <td>4.770154</td>\n",
       "    </tr>\n",
       "    <tr>\n",
       "      <th>5 to 19</th>\n",
       "      <td>16.981512</td>\n",
       "      <td>14.011849</td>\n",
       "    </tr>\n",
       "    <tr>\n",
       "      <th>20 to 39</th>\n",
       "      <td>28.462660</td>\n",
       "      <td>38.631165</td>\n",
       "    </tr>\n",
       "    <tr>\n",
       "      <th>40 to 59</th>\n",
       "      <td>27.357984</td>\n",
       "      <td>24.069944</td>\n",
       "    </tr>\n",
       "    <tr>\n",
       "      <th>60+</th>\n",
       "      <td>21.277473</td>\n",
       "      <td>18.516888</td>\n",
       "    </tr>\n",
       "  </tbody>\n",
       "</table>\n",
       "</div>"
      ],
      "text/plain": [
       "           Top 10 Suburbs  Bottom 10 Suburbs\n",
       "Age Group                                   \n",
       "0 to 4           5.920371           4.770154\n",
       "5 to 19         16.981512          14.011849\n",
       "20 to 39        28.462660          38.631165\n",
       "40 to 59        27.357984          24.069944\n",
       "60+             21.277473          18.516888"
      ]
     },
     "execution_count": 63,
     "metadata": {},
     "output_type": "execute_result"
    }
   ],
   "source": [
    "#Dropping rows so that it is easier to plot in a graph\n",
    "age_summary_overall\n",
    "age_summary_plot=age_summary_overall[[\"Top 10 Suburbs\", 'Bottom 10 Suburbs']]\n",
    "age_summary_plot"
   ]
  },
  {
   "cell_type": "code",
   "execution_count": 64,
   "metadata": {},
   "outputs": [
    {
     "data": {
      "image/png": "[encoded data removed]",
      "text/plain": [
       "<Figure size 432x288 with 1 Axes>"
      ]
     },
     "metadata": {
      "needs_background": "light"
     },
     "output_type": "display_data"
    }
   ],
   "source": [
    "#Graphing the age demographics \n",
    "ax1 = age_summary_plot.plot.bar(rot=0)\n",
    "ax1.set_ylabel(\"Percentage\")\n",
    "ax1.set_title(\"Graph showing Age distribution in suburbs\")\n",
    "ax1.figure.savefig('Age_distribution.png')"
   ]
  },
  {
   "cell_type": "markdown",
   "metadata": {},
   "source": [
    "From the analysis above, it is clear that the bottom 10 performing subrubs have a higher proportion of 20-39 year olds. This is consistent with the hypothesis. "
   ]
  },
  {
   "cell_type": "markdown",
   "metadata": {},
   "source": [
    "Next, very similar analysis was done on the proportion of people holding jobs that require a tertiary qualification in comparison to people who do not hold jobs requiring a tertiary qualifications. This is shown below: "
   ]
  },
  {
   "cell_type": "code",
   "execution_count": 65,
   "metadata": {},
   "outputs": [],
   "source": [
    "#finding the number of people who hold both types of jobs in bottom and top performing suburbs\n",
    "top_not_requiring=top_10_suburbs[\"Job Does not require a Tertiary qualification\"].sum()\n",
    "top_requiring=top_10_suburbs[\"Job requires Tertiary qualification\"].sum()\n",
    "bottom_not_requiring=bottom_10_suburbs[\"Job Does not require a Tertiary qualification\"].sum()\n",
    "bottom_requiring=bottom_10_suburbs[\"Job requires Tertiary qualification\"].sum()"
   ]
  },
  {
   "cell_type": "code",
   "execution_count": 66,
   "metadata": {},
   "outputs": [],
   "source": [
    "#summarising the values into a table\n",
    "tertiary_summary_overall = pd.DataFrame(np.array([[\"Job requires Tertiary\", top_requiring, bottom_requiring], [\"Job does not require Tertiary\", top_not_requiring, bottom_not_requiring]]),\n",
    "                   columns=['Job requires Qualifications', 'Frequency Top', 'Frequency Bottom'])"
   ]
  },
  {
   "cell_type": "code",
   "execution_count": 67,
   "metadata": {},
   "outputs": [],
   "source": [
    "#Mapping the values to a float so they can be used to calculate percentages \n",
    "tertiary_summary_overall['Frequency Top'] = tertiary_summary_overall['Frequency Top'].astype(float)\n",
    "tertiary_summary_overall['Frequency Bottom'] = tertiary_summary_overall['Frequency Bottom'].astype(float)"
   ]
  },
  {
   "cell_type": "code",
   "execution_count": 68,
   "metadata": {},
   "outputs": [],
   "source": [
    "#Obtaining the total so that percentages can be calculated\n",
    "total_top1 = tertiary_summary_overall['Frequency Top'].sum()\n",
    "total_bottom1 = tertiary_summary_overall['Frequency Bottom'].sum()\n"
   ]
  },
  {
   "cell_type": "code",
   "execution_count": 69,
   "metadata": {},
   "outputs": [],
   "source": [
    "#Obtaining the percentage and dropping all columns that are not needed for the graph \n",
    "tertiary_summary_overall[\"Top 10 Suburbs\"]=(tertiary_summary_overall['Frequency Top']/total_top1)*100\n",
    "tertiary_summary_overall[\"Bottom 10 Suburbs\"]=(tertiary_summary_overall['Frequency Bottom']/total_bottom1)*100\n",
    "tertiary_summary_overall=tertiary_summary_overall.set_index('Job requires Qualifications')\n",
    "tertiary_summary_plot=tertiary_summary_overall[[\"Top 10 Suburbs\", 'Bottom 10 Suburbs']]\n",
    "\n"
   ]
  },
  {
   "cell_type": "code",
   "execution_count": 70,
   "metadata": {},
   "outputs": [
    {
     "data": {
      "image/png": "[encoded data removed]",
      "text/plain": [
       "<Figure size 432x288 with 1 Axes>"
      ]
     },
     "metadata": {
      "needs_background": "light"
     },
     "output_type": "display_data"
    }
   ],
   "source": [
    "#Creating a graph\n",
    "ax1 = tertiary_summary_plot.plot.bar(rot=0)\n",
    "ax1.set_ylabel(\"Percentage\")\n",
    "ax1.set_title(\"Graph showing Job Distribution in suburbs\")\n",
    "ax1.figure.savefig('Tertiary_qualification.png')"
   ]
  },
  {
   "cell_type": "markdown",
   "metadata": {},
   "source": [
    "As shown by the graph above, there does not seem to be much difference in the proportion of people who hold jobs requiring tertiary qualifications and the proportion of people not holding tertiary qualifications in the top 10 suburbs and bottom 10 suburbs. This does not support the hypothesis"
   ]
  },
  {
   "cell_type": "markdown",
   "metadata": {},
   "source": [
    "Lastly, the proportion of people born in Australia and to the proportion of people not born in Australia will be compared in the top 10 suburbs and the bottom 10 suburbs using similar analysis. "
   ]
  },
  {
   "cell_type": "code",
   "execution_count": 71,
   "metadata": {},
   "outputs": [],
   "source": [
    "#finding the number of people born in Australia and born outside of Australia in top performing and bottom performing suburbs\n",
    "top_outside_Aus=top_10_suburbs[\"Born outside of Australia\"].sum()\n",
    "top_in_Aus=top_10_suburbs[\"Born in Australia\"].sum()\n",
    "bottom_outside_Aus=bottom_10_suburbs[\"Born outside of Australia\"].sum()\n",
    "bottom_in_Aus=bottom_10_suburbs[\"Born in Australia\"].sum()\n"
   ]
  },
  {
   "cell_type": "code",
   "execution_count": 72,
   "metadata": {},
   "outputs": [],
   "source": [
    "#creating a table\n",
    "migrant_summary_overall = pd.DataFrame(np.array([[\"Born within Aus\", top_in_Aus, bottom_in_Aus], [\"Born outside Aus\", top_outside_Aus, bottom_outside_Aus]]),\n",
    "                   columns=['Location where people are born', 'Frequency Top', 'Frequency Bottom'])"
   ]
  },
  {
   "cell_type": "code",
   "execution_count": 73,
   "metadata": {},
   "outputs": [],
   "source": [
    "#mapping variables so it can be converted into a percentage \n",
    "migrant_summary_overall['Frequency Top'] = migrant_summary_overall['Frequency Top'].astype(float)\n",
    "migrant_summary_overall['Frequency Bottom'] = migrant_summary_overall['Frequency Bottom'].astype(float)"
   ]
  },
  {
   "cell_type": "code",
   "execution_count": 74,
   "metadata": {},
   "outputs": [],
   "source": [
    "#Converting values to a percentage\n",
    "total_top1 = migrant_summary_overall['Frequency Top'].sum()\n",
    "total_bottom1 = migrant_summary_overall['Frequency Bottom'].sum()"
   ]
  },
  {
   "cell_type": "code",
   "execution_count": 75,
   "metadata": {},
   "outputs": [],
   "source": [
    "#Calculating percentages and adding it to the table\n",
    "migrant_summary_overall[\"Top 10 Suburbs\"]=(migrant_summary_overall['Frequency Top']/total_top)*100\n",
    "migrant_summary_overall[\"Bottom 10 Suburbs\"]=(migrant_summary_overall['Frequency Bottom']/total_bottom)*100\n",
    "migrant_summary_overall=migrant_summary_overall.set_index('Location where people are born')\n"
   ]
  },
  {
   "cell_type": "code",
   "execution_count": 76,
   "metadata": {},
   "outputs": [
    {
     "data": {
      "image/png": "[encoded data removed]",
      "text/plain": [
       "<Figure size 432x288 with 1 Axes>"
      ]
     },
     "metadata": {
      "needs_background": "light"
     },
     "output_type": "display_data"
    }
   ],
   "source": [
    "#Getting rid of  non-needed columns and plotting the graph\n",
    "migrant_summary_plot=migrant_summary_overall[[\"Top 10 Suburbs\", \"Bottom 10 Suburbs\"]]\n",
    "ax1 = migrant_summary_plot.plot.bar(rot=0)\n",
    "ylabel=\"Percentages\"\n",
    "ax1.set_ylabel(\"Percentage\")\n",
    "ax1.set_title(\"Graph showing Locals vs Migrant distribution in suburbs\")\n",
    "ax1.figure.savefig('Locals_migrants.png')"
   ]
  },
  {
   "cell_type": "markdown",
   "metadata": {},
   "source": [
    "Overall, as expected from the hypothesis it can be observed that suburbs that were most impacted have a higher proportion of people born outside of Australia in comparison to the top 10 performing suburbs. "
   ]
  },
  {
   "cell_type": "markdown",
   "metadata": {},
   "source": [
    "In summary, it can be seen that the suburbs that experienced the highest drop in the median house price in April 2020 compared to January 2020 had a higher proportion of people who were in the 20-39 age group and had a higher proprtion of people born outside of Australia. This was consistent with the hypothesis. However, there does not seem to be much difference in the occupations held by people in the top performing suburbs and the bottom performing suburbs. "
   ]
  },
  {
   "cell_type": "markdown",
   "metadata": {},
   "source": [
    "QUESTION 3:  There was clearly some demographic differences in the suburbs that were most affected by the COVD-19 crises and the suburbs that were least affected. The next question focuses on answering whether these demographic differences seen above apply to all of Melbourne. \n",
    "\n",
    "Hypothesis: The hypothesis is that a negative correlation will be aobserved between suburbs  with a high proportion of migrants and suburbs where people hold jobs that do not require a tertiary qualification. On the other hand, suburbs with a high proportion of infants (indicating young families) would have fared better. "
   ]
  },
  {
   "cell_type": "markdown",
   "metadata": {},
   "source": [
    "In order to answer this, regression analysis was done with the change in house price as the dependent variables and migrant status, and different age groups as the independent variable. "
   ]
  },
  {
   "cell_type": "code",
   "execution_count": 77,
   "metadata": {},
   "outputs": [],
   "source": [
    "x=house_data_complete[[\"% holding Job requiring Tertiary\", \"Percent born outside of Aus\", \"Total Population\", \"% 0 to 4\"]]\n",
    "y=house_data_complete[\"House_price_delta\"]\n",
    "x=sm.add_constant(x)"
   ]
  },
  {
   "cell_type": "code",
   "execution_count": 78,
   "metadata": {},
   "outputs": [],
   "source": [
    "model=sm.OLS(y, x).fit()"
   ]
  },
  {
   "cell_type": "code",
   "execution_count": 79,
   "metadata": {},
   "outputs": [
    {
     "data": {
      "text/html": [
       "<table class=\"simpletable\">\n",
       "<caption>OLS Regression Results</caption>\n",
       "<tr>\n",
       "  <th>Dep. Variable:</th>    <td>House_price_delta</td> <th>  R-squared:         </th> <td>   0.071</td>\n",
       "</tr>\n",
       "<tr>\n",
       "  <th>Model:</th>                   <td>OLS</td>        <th>  Adj. R-squared:    </th> <td>   0.055</td>\n",
       "</tr>\n",
       "<tr>\n",
       "  <th>Method:</th>             <td>Least Squares</td>   <th>  F-statistic:       </th> <td>   4.549</td>\n",
       "</tr>\n",
       "<tr>\n",
       "  <th>Date:</th>             <td>Tue, 14 Jul 2020</td>  <th>  Prob (F-statistic):</th>  <td>0.00147</td>\n",
       "</tr>\n",
       "<tr>\n",
       "  <th>Time:</th>                 <td>15:07:09</td>      <th>  Log-Likelihood:    </th> <td>  241.80</td>\n",
       "</tr>\n",
       "<tr>\n",
       "  <th>No. Observations:</th>      <td>   244</td>       <th>  AIC:               </th> <td>  -473.6</td>\n",
       "</tr>\n",
       "<tr>\n",
       "  <th>Df Residuals:</th>          <td>   239</td>       <th>  BIC:               </th> <td>  -456.1</td>\n",
       "</tr>\n",
       "<tr>\n",
       "  <th>Df Model:</th>              <td>     4</td>       <th>                     </th>     <td> </td>   \n",
       "</tr>\n",
       "<tr>\n",
       "  <th>Covariance Type:</th>      <td>nonrobust</td>     <th>                     </th>     <td> </td>   \n",
       "</tr>\n",
       "</table>\n",
       "<table class=\"simpletable\">\n",
       "<tr>\n",
       "                  <td></td>                    <th>coef</th>     <th>std err</th>      <th>t</th>      <th>P>|t|</th>  <th>[0.025</th>    <th>0.975]</th>  \n",
       "</tr>\n",
       "<tr>\n",
       "  <th>const</th>                            <td>    0.0718</td> <td>    0.062</td> <td>    1.155</td> <td> 0.249</td> <td>   -0.051</td> <td>    0.194</td>\n",
       "</tr>\n",
       "<tr>\n",
       "  <th>% holding Job requiring Tertiary</th> <td>   -0.0016</td> <td>    0.001</td> <td>   -2.310</td> <td> 0.022</td> <td>   -0.003</td> <td>   -0.000</td>\n",
       "</tr>\n",
       "<tr>\n",
       "  <th>Percent born outside of Aus</th>      <td>   -0.0011</td> <td>    0.001</td> <td>   -2.164</td> <td> 0.031</td> <td>   -0.002</td> <td>   -0.000</td>\n",
       "</tr>\n",
       "<tr>\n",
       "  <th>Total Population</th>                 <td>  2.72e-07</td> <td> 6.41e-07</td> <td>    0.424</td> <td> 0.672</td> <td>-9.91e-07</td> <td> 1.53e-06</td>\n",
       "</tr>\n",
       "<tr>\n",
       "  <th>% 0 to 4</th>                         <td>    0.6558</td> <td>    0.375</td> <td>    1.747</td> <td> 0.082</td> <td>   -0.084</td> <td>    1.395</td>\n",
       "</tr>\n",
       "</table>\n",
       "<table class=\"simpletable\">\n",
       "<tr>\n",
       "  <th>Omnibus:</th>       <td>72.925</td> <th>  Durbin-Watson:     </th> <td>   1.856</td> \n",
       "</tr>\n",
       "<tr>\n",
       "  <th>Prob(Omnibus):</th> <td> 0.000</td> <th>  Jarque-Bera (JB):  </th> <td> 606.956</td> \n",
       "</tr>\n",
       "<tr>\n",
       "  <th>Skew:</th>          <td>-0.904</td> <th>  Prob(JB):          </th> <td>1.59e-132</td>\n",
       "</tr>\n",
       "<tr>\n",
       "  <th>Kurtosis:</th>      <td>10.512</td> <th>  Cond. No.          </th> <td>1.14e+06</td> \n",
       "</tr>\n",
       "</table><br/><br/>Warnings:<br/>[1] Standard Errors assume that the covariance matrix of the errors is correctly specified.<br/>[2] The condition number is large, 1.14e+06. This might indicate that there are<br/>strong multicollinearity or other numerical problems."
      ],
      "text/plain": [
       "<class 'statsmodels.iolib.summary.Summary'>\n",
       "\"\"\"\n",
       "                            OLS Regression Results                            \n",
       "==============================================================================\n",
       "Dep. Variable:      House_price_delta   R-squared:                       0.071\n",
       "Model:                            OLS   Adj. R-squared:                  0.055\n",
       "Method:                 Least Squares   F-statistic:                     4.549\n",
       "Date:                Tue, 14 Jul 2020   Prob (F-statistic):            0.00147\n",
       "Time:                        15:07:09   Log-Likelihood:                 241.80\n",
       "No. Observations:                 244   AIC:                            -473.6\n",
       "Df Residuals:                     239   BIC:                            -456.1\n",
       "Df Model:                           4                                         \n",
       "Covariance Type:            nonrobust                                         \n",
       "====================================================================================================\n",
       "                                       coef    std err          t      P>|t|      [0.025      0.975]\n",
       "----------------------------------------------------------------------------------------------------\n",
       "const                                0.0718      0.062      1.155      0.249      -0.051       0.194\n",
       "% holding Job requiring Tertiary    -0.0016      0.001     -2.310      0.022      -0.003      -0.000\n",
       "Percent born outside of Aus         -0.0011      0.001     -2.164      0.031      -0.002      -0.000\n",
       "Total Population                   2.72e-07   6.41e-07      0.424      0.672   -9.91e-07    1.53e-06\n",
       "% 0 to 4                             0.6558      0.375      1.747      0.082      -0.084       1.395\n",
       "==============================================================================\n",
       "Omnibus:                       72.925   Durbin-Watson:                   1.856\n",
       "Prob(Omnibus):                  0.000   Jarque-Bera (JB):              606.956\n",
       "Skew:                          -0.904   Prob(JB):                    1.59e-132\n",
       "Kurtosis:                      10.512   Cond. No.                     1.14e+06\n",
       "==============================================================================\n",
       "\n",
       "Warnings:\n",
       "[1] Standard Errors assume that the covariance matrix of the errors is correctly specified.\n",
       "[2] The condition number is large, 1.14e+06. This might indicate that there are\n",
       "strong multicollinearity or other numerical problems.\n",
       "\"\"\""
      ]
     },
     "execution_count": 79,
     "metadata": {},
     "output_type": "execute_result"
    }
   ],
   "source": [
    "predictions=model.predict(x)\n",
    "model.summary()"
   ]
  },
  {
   "cell_type": "markdown",
   "metadata": {},
   "source": [
    "As pointed out above, there are some problems with this regression analysis. However, it is important to note that there is a positive correlation between the % 0 to 4 and changes in house price as expected. This indicates that people in suburbs who live in more long-term homes and less densely populated areas have not experienced the same drop in median house prices as a result of COVID-19. "
   ]
  },
  {
   "cell_type": "markdown",
   "metadata": {},
   "source": [
    "Scatterplots were then used to assess the correlation between change in house price and a number of different demograhic variables including proportion holding a job requiring a teritary qualification, proportion of people born outside Australia and proportion of people that are 0-4 (indicating the presence of younger families). "
   ]
  },
  {
   "cell_type": "code",
   "execution_count": 80,
   "metadata": {},
   "outputs": [
    {
     "data": {
      "image/png": "[encoded data removed]",
      "text/plain": [
       "<Figure size 432x288 with 1 Axes>"
      ]
     },
     "metadata": {
      "needs_background": "light"
     },
     "output_type": "display_data"
    }
   ],
   "source": [
    "tertiary_job_delta=sns.regplot(house_data_complete[\"% holding Job requiring Tertiary\"],house_data_complete[\"House_price_delta\"])"
   ]
  },
  {
   "cell_type": "code",
   "execution_count": 81,
   "metadata": {},
   "outputs": [],
   "source": [
    "fig3=tertiary_job_delta.get_figure()"
   ]
  },
  {
   "cell_type": "code",
   "execution_count": 82,
   "metadata": {},
   "outputs": [],
   "source": [
    "fig3.savefig('tertiary_job_housedelta.png')"
   ]
  },
  {
   "cell_type": "markdown",
   "metadata": {},
   "source": [
    "This is somewhat contrary to what we expected. It was believed that suburbs with less tertiary educated job holders would suffer a greater economic impact which would affect house prices. Need further research to determine why this does not appear to be the case.However, it supports prior results that there was not much difference in the proportion of people holding jobs requiring tertiary qualifications in top performing and bottom performing suburbs. "
   ]
  },
  {
   "cell_type": "code",
   "execution_count": 83,
   "metadata": {},
   "outputs": [
    {
     "data": {
      "image/png": "[encoded data removed]",
      "text/plain": [
       "<Figure size 432x288 with 1 Axes>"
      ]
     },
     "metadata": {
      "needs_background": "light"
     },
     "output_type": "display_data"
    }
   ],
   "source": [
    "migration_delta=sns.regplot(house_data_complete[\"Percent born outside of Aus\"],house_data_complete[\"House_price_delta\"])"
   ]
  },
  {
   "cell_type": "code",
   "execution_count": 84,
   "metadata": {},
   "outputs": [],
   "source": [
    "fig4=migration_delta.get_figure()"
   ]
  },
  {
   "cell_type": "code",
   "execution_count": 85,
   "metadata": {},
   "outputs": [],
   "source": [
    "fig4.savefig('migration_housedelta.png')"
   ]
  },
  {
   "cell_type": "markdown",
   "metadata": {},
   "source": [
    "We did expect a negative correlation between the proportion of the population born overseas and a negative change in house prices, based on the impact that Covid-19 has had on migration, international student demand and also foreign citizens on temporary working visas."
   ]
  },
  {
   "cell_type": "code",
   "execution_count": 86,
   "metadata": {},
   "outputs": [
    {
     "data": {
      "image/png": "[encoded data removed]",
      "text/plain": [
       "<Figure size 432x288 with 1 Axes>"
      ]
     },
     "metadata": {
      "needs_background": "light"
     },
     "output_type": "display_data"
    }
   ],
   "source": [
    "age_group_delta=sns.regplot(house_data_complete[\"% 0 to 4\"],house_data_complete[\"House_price_delta\"])"
   ]
  },
  {
   "cell_type": "code",
   "execution_count": 87,
   "metadata": {},
   "outputs": [],
   "source": [
    "fig4=age_group_delta.get_figure()"
   ]
  },
  {
   "cell_type": "code",
   "execution_count": 88,
   "metadata": {},
   "outputs": [],
   "source": [
    "fig4.savefig('age_group_delta.png')"
   ]
  },
  {
   "cell_type": "markdown",
   "metadata": {},
   "source": [
    "The positive correlation was expected as young families live in suburbs that may be less densely populated. Furthermore, suburbs tend to have a lower proprtion of rentals which may also be a reason for the positive correlation between % age 0-4 and the change in median house price. "
   ]
  },
  {
   "cell_type": "markdown",
   "metadata": {},
   "source": [
    "Overall, the results were fairly consistent with the hypothesis. It was evident that suburbs that had a high proportion of people born outside of Australia experienced a higher drop in median house price and suburbs which had a higher proprtion of young families experienced an slight increase in house prices. However, it was unexpected to see the negative correlation between change in median house price and the proportion of people who hold jobs requiring tertiary qualifications."
   ]
  },
  {
   "cell_type": "code",
   "execution_count": null,
   "metadata": {},
   "outputs": [],
   "source": []
  }
 ],
 "metadata": {
  "kernelspec": {
   "display_name": "Python 3",
   "language": "python",
   "name": "python3"
  },
  "language_info": {
   "codemirror_mode": {
    "name": "ipython",
    "version": 3
   },
   "file_extension": ".py",
   "mimetype": "text/x-python",
   "name": "python",
   "nbconvert_exporter": "python",
   "pygments_lexer": "ipython3",
   "version": "3.7.6"
  }
 },
 "nbformat": 4,
 "nbformat_minor": 4
}
